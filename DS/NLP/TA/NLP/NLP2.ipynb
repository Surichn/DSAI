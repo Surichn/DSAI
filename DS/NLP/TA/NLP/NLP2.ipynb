{
  "nbformat": 4,
  "nbformat_minor": 0,
  "metadata": {
    "colab": {
      "name": "NLP2.ipynb",
      "provenance": [],
      "authorship_tag": "ABX9TyNLVWN4YDc1gFhMSA04zrnS",
      "include_colab_link": true
    },
    "kernelspec": {
      "name": "python3",
      "display_name": "Python 3"
    },
    "language_info": {
      "name": "python"
    }
  },
  "cells": [
    {
      "cell_type": "markdown",
      "metadata": {
        "id": "view-in-github",
        "colab_type": "text"
      },
      "source": [
        "<a href=\"https://colab.research.google.com/github/Surichn/DSAI/blob/main/DS/NLP/TA/NLP/NLP2.ipynb\" target=\"_parent\"><img src=\"https://colab.research.google.com/assets/colab-badge.svg\" alt=\"Open In Colab\"/></a>"
      ]
    },
    {
      "cell_type": "markdown",
      "source": [
        "**Word Encoding using NLP**"
      ],
      "metadata": {
        "id": "wN0rfEYrKQyj"
      }
    },
    {
      "cell_type": "code",
      "source": [
        "import tensorflow as tf\n",
        "from tensorflow import keras\n",
        "from tensorflow.keras.preprocessing.text import Tokenizer"
      ],
      "metadata": {
        "id": "00hzaBaOKPNS"
      },
      "execution_count": 2,
      "outputs": []
    },
    {
      "cell_type": "markdown",
      "source": [
        "Define Training Sentences"
      ],
      "metadata": {
        "id": "xtoQ1fEGK5Mp"
      }
    },
    {
      "cell_type": "code",
      "execution_count": 13,
      "metadata": {
        "id": "Ik0K16-_KMDz"
      },
      "outputs": [],
      "source": [
        "train_sentences = [\n",
        "                  'it is a sunny day',\n",
        "                  'it is a cloudy day',\n",
        "                  'will it rain today?'\n",
        "]"
      ]
    },
    {
      "cell_type": "markdown",
      "source": [
        "Setting up Tokenizer"
      ],
      "metadata": {
        "id": "4BWTfJ_4LIiy"
      }
    },
    {
      "cell_type": "code",
      "source": [
        "tokenizer = Tokenizer(num_words = 100)\n",
        "\n",
        "tokenizer.fit_on_texts(train_sentences)\n",
        "\n",
        "word_index = tokenizer.word_index"
      ],
      "metadata": {
        "id": "KJsDJBKYLLnS"
      },
      "execution_count": 14,
      "outputs": []
    },
    {
      "cell_type": "markdown",
      "source": [
        "Create Sequence"
      ],
      "metadata": {
        "id": "zr1ivUtPNqe2"
      }
    },
    {
      "cell_type": "code",
      "source": [
        "sequences = tokenizer.texts_to_sequences(train_sentences)"
      ],
      "metadata": {
        "id": "8aNfcTI0NsP_"
      },
      "execution_count": 17,
      "outputs": []
    },
    {
      "cell_type": "code",
      "source": [
        "print(f'Word Index---{word_index}')\n",
        "print(f'Sequences --- {sequences}')"
      ],
      "metadata": {
        "colab": {
          "base_uri": "https://localhost:8080/"
        },
        "id": "rZuE1kHaN6B-",
        "outputId": "d22f9b93-37bf-4320-c76f-55d15486720a"
      },
      "execution_count": 19,
      "outputs": [
        {
          "output_type": "stream",
          "name": "stdout",
          "text": [
            "Word Index---{'it': 1, 'is': 2, 'a': 3, 'day': 4, 'sunny': 5, 'cloudy': 6, 'will': 7, 'rain': 8, 'today': 9}\n",
            "Sequences --- [[1, 2, 3, 5, 4], [1, 2, 3, 6, 4], [7, 1, 8, 9]]\n"
          ]
        }
      ]
    },
    {
      "cell_type": "markdown",
      "source": [
        "Tokenizing new data using the same Tokenizer"
      ],
      "metadata": {
        "id": "E9Pfen0lO5Cb"
      }
    },
    {
      "cell_type": "code",
      "source": [
        "new_sentences =[\n",
        "                'will it be raining today?',\n",
        "                'it is a pleasant day'\n",
        "]"
      ],
      "metadata": {
        "id": "r5G5PWzPO-ix"
      },
      "execution_count": 20,
      "outputs": []
    },
    {
      "cell_type": "code",
      "source": [
        "new_sequences = tokenizer.texts_to_sequences(new_sentences)"
      ],
      "metadata": {
        "id": "EfVa0sSHPGT1"
      },
      "execution_count": 25,
      "outputs": []
    },
    {
      "cell_type": "code",
      "source": [
        "print(f'Word Index---{new_sentences}')\n",
        "print(f'Sequences --- {new_sequences}')"
      ],
      "metadata": {
        "colab": {
          "base_uri": "https://localhost:8080/"
        },
        "id": "WD8cgMtNPOrn",
        "outputId": "e21277c5-1b89-4188-b540-f409c5f4a6eb"
      },
      "execution_count": 26,
      "outputs": [
        {
          "output_type": "stream",
          "name": "stdout",
          "text": [
            "Word Index---['will it be raining today?', 'it is a pleasant day']\n",
            "Sequences --- [[7, 1, 9], [1, 2, 3, 4]]\n"
          ]
        }
      ]
    },
    {
      "cell_type": "markdown",
      "source": [
        ""
      ],
      "metadata": {
        "id": "9KIjnBzjPtLP"
      }
    }
  ]
}