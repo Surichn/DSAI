{
  "nbformat": 4,
  "nbformat_minor": 0,
  "metadata": {
    "colab": {
      "name": "NLP2.ipynb",
      "provenance": [],
      "authorship_tag": "ABX9TyMsujSdpR+ZLZT+URtFdcS/",
      "include_colab_link": true
    },
    "kernelspec": {
      "name": "python3",
      "display_name": "Python 3"
    },
    "language_info": {
      "name": "python"
    }
  },
  "cells": [
    {
      "cell_type": "markdown",
      "metadata": {
        "id": "view-in-github",
        "colab_type": "text"
      },
      "source": [
        "<a href=\"https://colab.research.google.com/github/Surichn/DSAI/blob/main/DS/TA/NLP/NLP2.ipynb\" target=\"_parent\"><img src=\"https://colab.research.google.com/assets/colab-badge.svg\" alt=\"Open In Colab\"/></a>"
      ]
    },
    {
      "cell_type": "markdown",
      "source": [
        "**Word Encoding using NLP**"
      ],
      "metadata": {
        "id": "wN0rfEYrKQyj"
      }
    },
    {
      "cell_type": "code",
      "source": [
        "import tensorflow as tf\n",
        "from tensorflow import keras\n",
        "from tensorflow.keras.preprocessing.text import Tokenizer\n",
        "from tensorflow.keras.preprocessing.sequence import pad_sequences"
      ],
      "metadata": {
        "id": "00hzaBaOKPNS"
      },
      "execution_count": 31,
      "outputs": []
    },
    {
      "cell_type": "markdown",
      "source": [
        "Define Training Sentences"
      ],
      "metadata": {
        "id": "xtoQ1fEGK5Mp"
      }
    },
    {
      "cell_type": "code",
      "execution_count": 13,
      "metadata": {
        "id": "Ik0K16-_KMDz"
      },
      "outputs": [],
      "source": [
        "train_sentences = [\n",
        "                  'it is a sunny day',\n",
        "                  'it is a cloudy day',\n",
        "                  'will it rain today?'\n",
        "]"
      ]
    },
    {
      "cell_type": "markdown",
      "source": [
        "Setting up Tokenizer"
      ],
      "metadata": {
        "id": "4BWTfJ_4LIiy"
      }
    },
    {
      "cell_type": "code",
      "source": [
        "tokenizer = Tokenizer(num_words = 100)\n",
        "\n",
        "tokenizer.fit_on_texts(train_sentences)\n",
        "\n",
        "word_index = tokenizer.word_index"
      ],
      "metadata": {
        "id": "KJsDJBKYLLnS"
      },
      "execution_count": 14,
      "outputs": []
    },
    {
      "cell_type": "markdown",
      "source": [
        "Create Sequence"
      ],
      "metadata": {
        "id": "zr1ivUtPNqe2"
      }
    },
    {
      "cell_type": "code",
      "source": [
        "sequences = tokenizer.texts_to_sequences(train_sentences)"
      ],
      "metadata": {
        "id": "8aNfcTI0NsP_"
      },
      "execution_count": 17,
      "outputs": []
    },
    {
      "cell_type": "code",
      "source": [
        "print(f'Word Index---{word_index}')\n",
        "print(f'Sequences --- {sequences}')"
      ],
      "metadata": {
        "colab": {
          "base_uri": "https://localhost:8080/"
        },
        "id": "rZuE1kHaN6B-",
        "outputId": "d22f9b93-37bf-4320-c76f-55d15486720a"
      },
      "execution_count": 19,
      "outputs": [
        {
          "output_type": "stream",
          "name": "stdout",
          "text": [
            "Word Index---{'it': 1, 'is': 2, 'a': 3, 'day': 4, 'sunny': 5, 'cloudy': 6, 'will': 7, 'rain': 8, 'today': 9}\n",
            "Sequences --- [[1, 2, 3, 5, 4], [1, 2, 3, 6, 4], [7, 1, 8, 9]]\n"
          ]
        }
      ]
    },
    {
      "cell_type": "markdown",
      "source": [
        "Tokenizing new data using the same Tokenizer"
      ],
      "metadata": {
        "id": "E9Pfen0lO5Cb"
      }
    },
    {
      "cell_type": "code",
      "source": [
        "new_sentences =[\n",
        "                'will it be raining today?',\n",
        "                'it is a pleasant day'\n",
        "]"
      ],
      "metadata": {
        "id": "r5G5PWzPO-ix"
      },
      "execution_count": 20,
      "outputs": []
    },
    {
      "cell_type": "code",
      "source": [
        "new_sequences = tokenizer.texts_to_sequences(new_sentences)"
      ],
      "metadata": {
        "id": "EfVa0sSHPGT1"
      },
      "execution_count": 25,
      "outputs": []
    },
    {
      "cell_type": "code",
      "source": [
        "print(f'Word Index---{new_sentences}')\n",
        "print(f'Sequences --- {new_sequences}')"
      ],
      "metadata": {
        "colab": {
          "base_uri": "https://localhost:8080/"
        },
        "id": "WD8cgMtNPOrn",
        "outputId": "e21277c5-1b89-4188-b540-f409c5f4a6eb"
      },
      "execution_count": 26,
      "outputs": [
        {
          "output_type": "stream",
          "name": "stdout",
          "text": [
            "Word Index---['will it be raining today?', 'it is a pleasant day']\n",
            "Sequences --- [[7, 1, 9], [1, 2, 3, 4]]\n"
          ]
        }
      ]
    },
    {
      "cell_type": "markdown",
      "source": [
        "Replacing newly encountered words with special values"
      ],
      "metadata": {
        "id": "9KIjnBzjPtLP"
      }
    },
    {
      "cell_type": "code",
      "source": [
        "tokenizer = Tokenizer(num_words=100,oov_token=\"<oov>\")\n",
        "\n",
        "tokenizer.fit_on_texts(train_sentences)\n",
        "\n",
        "word_index = tokenizer.word_index"
      ],
      "metadata": {
        "id": "bJgEMBaHQM0V"
      },
      "execution_count": 28,
      "outputs": []
    },
    {
      "cell_type": "code",
      "source": [
        "new_sequences = tokenizer.texts_to_sequences(new_sentences)\n",
        "print(f'Work Index --- {word_index}')\n",
        "print(f'New Sentences---{new_sentences}')\n",
        "print(f'New Sequences --- {new_sequences}')"
      ],
      "metadata": {
        "colab": {
          "base_uri": "https://localhost:8080/"
        },
        "id": "6VZhVNLHQ6KA",
        "outputId": "b8eafe6e-145e-4334-fdaf-774fd223422c"
      },
      "execution_count": 30,
      "outputs": [
        {
          "output_type": "stream",
          "name": "stdout",
          "text": [
            "Work Index --- {'<oov>': 1, 'it': 2, 'is': 3, 'a': 4, 'day': 5, 'sunny': 6, 'cloudy': 7, 'will': 8, 'rain': 9, 'today': 10}\n",
            "New Sentences---['will it be raining today?', 'it is a pleasant day']\n",
            "New Sequences --- [[8, 2, 1, 1, 10], [2, 3, 4, 1, 5]]\n"
          ]
        }
      ]
    },
    {
      "cell_type": "markdown",
      "source": [
        "New Training 2"
      ],
      "metadata": {
        "id": "qs3HRiOJS4jG"
      }
    },
    {
      "cell_type": "code",
      "source": [
        "train_sentences =[\n",
        "                  'it will rain',\n",
        "                  'the weather is cloudy',\n",
        "                  'will it be raining today',\n",
        "                  'it is a super hot day'\n",
        "]"
      ],
      "metadata": {
        "id": "6Hgt74lCS-eG"
      },
      "execution_count": 32,
      "outputs": []
    },
    {
      "cell_type": "code",
      "source": [
        "tokenizer = Tokenizer(num_words=100,oov_token=\"<oov>\")\n",
        "\n",
        "tokenizer.fit_on_texts(train_sentences)\n",
        "\n",
        "word_index = tokenizer.word_index"
      ],
      "metadata": {
        "id": "bqWLb0DsTK_w"
      },
      "execution_count": 33,
      "outputs": []
    },
    {
      "cell_type": "code",
      "source": [
        "sequences = tokenizer.texts_to_sequences(train_sentences)\n"
      ],
      "metadata": {
        "id": "ED6u9AAbTZ5x"
      },
      "execution_count": 38,
      "outputs": []
    },
    {
      "cell_type": "code",
      "source": [
        "pad_seq = pad_sequences(sequences)"
      ],
      "metadata": {
        "id": "XtFCW63fTjeT"
      },
      "execution_count": 39,
      "outputs": []
    },
    {
      "cell_type": "code",
      "source": [
        "print(f'Work Index --- {word_index}')\n",
        "print(f'New Sentences---{train_sentences}')\n",
        "print(f'New Sequences --- {sequences}')\n",
        "print(f'Pad Sequences --- {pad_seq}')"
      ],
      "metadata": {
        "colab": {
          "base_uri": "https://localhost:8080/"
        },
        "id": "moTj0gB3TykT",
        "outputId": "459b1dbf-bf8e-45c5-8a03-ba163f8d0e1a"
      },
      "execution_count": 40,
      "outputs": [
        {
          "output_type": "stream",
          "name": "stdout",
          "text": [
            "Work Index --- {'<oov>': 1, 'it': 2, 'will': 3, 'is': 4, 'rain': 5, 'the': 6, 'weather': 7, 'cloudy': 8, 'be': 9, 'raining': 10, 'today': 11, 'a': 12, 'super': 13, 'hot': 14, 'day': 15}\n",
            "New Sentences---['it will rain', 'the weather is cloudy', 'will it be raining today', 'it is a super hot day']\n",
            "New Sequences --- [[2, 3, 5], [6, 7, 4, 8], [3, 2, 9, 10, 11], [2, 4, 12, 13, 14, 15]]\n",
            "Pad Sequences --- [[ 0  0  0  2  3  5]\n",
            " [ 0  0  6  7  4  8]\n",
            " [ 0  3  2  9 10 11]\n",
            " [ 2  4 12 13 14 15]]\n"
          ]
        }
      ]
    },
    {
      "cell_type": "markdown",
      "source": [
        "Customizing padding sequence"
      ],
      "metadata": {
        "id": "FTCDS6VTUD1t"
      }
    },
    {
      "cell_type": "code",
      "source": [
        "padded_seq = pad_sequences(sequences,\n",
        "                           padding=\"post\",\n",
        "                           maxlen=6\n",
        "                           )"
      ],
      "metadata": {
        "id": "0mlSGQSCUB8P"
      },
      "execution_count": 41,
      "outputs": []
    },
    {
      "cell_type": "code",
      "source": [
        "print(padded_seq)"
      ],
      "metadata": {
        "colab": {
          "base_uri": "https://localhost:8080/"
        },
        "id": "5QuJJGc9UTUi",
        "outputId": "e9755b93-5c24-4e90-f9d6-5627e1e1ccf0"
      },
      "execution_count": 42,
      "outputs": [
        {
          "output_type": "stream",
          "name": "stdout",
          "text": [
            "[[ 2  3  5  0  0  0]\n",
            " [ 6  7  4  8  0  0]\n",
            " [ 3  2  9 10 11  0]\n",
            " [ 2  4 12 13 14 15]]\n"
          ]
        }
      ]
    }
  ]
}