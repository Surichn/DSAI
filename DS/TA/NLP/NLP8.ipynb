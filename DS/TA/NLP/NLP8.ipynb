{
  "nbformat": 4,
  "nbformat_minor": 0,
  "metadata": {
    "colab": {
      "name": "NLP7.ipynb",
      "provenance": [],
      "authorship_tag": "ABX9TyM9FPgp+Rk0Vl96xXgOLz8G",
      "include_colab_link": true
    },
    "kernelspec": {
      "name": "python3",
      "display_name": "Python 3"
    },
    "language_info": {
      "name": "python"
    }
  },
  "cells": [
    {
      "cell_type": "markdown",
      "metadata": {
        "id": "view-in-github",
        "colab_type": "text"
      },
      "source": [
        "<a href=\"https://colab.research.google.com/github/Surichn/DSAI/blob/main/DS/TA/NLP/NLP8.ipynb\" target=\"_parent\"><img src=\"https://colab.research.google.com/assets/colab-badge.svg\" alt=\"Open In Colab\"/></a>"
      ]
    },
    {
      "cell_type": "markdown",
      "source": [
        "Poetry Generation\n",
        "\n",
        "1. Create a Corpus- break the text down to list of sentences\n",
        "2. Create a word_index(vocabulary) from the text\n",
        "3. Tokenize the data and create n-gram sequence for each sequences of the corpus\n",
        "4. Pad those sentences\n",
        "5. Segregate features from the sequences by reserving the last element of array as labels"
      ],
      "metadata": {
        "id": "lJcj6itwPVeC"
      }
    },
    {
      "cell_type": "code",
      "execution_count": 1,
      "metadata": {
        "id": "eTL6Ec_3PUqZ"
      },
      "outputs": [],
      "source": [
        "import numpy as np\n",
        "import tensorflow as tf\n",
        "import tensorflow_datasets as tds\n",
        "from tensorflow.keras.preprocessing.text import Tokenizer\n",
        "from tensorflow.keras.preprocessing.sequence import pad_sequences"
      ]
    },
    {
      "cell_type": "markdown",
      "source": [
        "Step 1: Create a Corpus"
      ],
      "metadata": {
        "id": "7tywxq3cThWh"
      }
    },
    {
      "cell_type": "code",
      "source": [
        "#download data from url\n",
        "!wget --no-check-certificate \\\n",
        "   https://raw.githubusercontent.com/dswh/lil_nlp_with_tensorflow/main/sonnets.txt \\\n",
        "   -O /tmp/sonnet.txt"
      ],
      "metadata": {
        "id": "483IdJpnTlDR",
        "outputId": "fa680b57-1dda-4537-d77c-f86a60c499aa",
        "colab": {
          "base_uri": "https://localhost:8080/"
        }
      },
      "execution_count": 2,
      "outputs": [
        {
          "output_type": "stream",
          "name": "stdout",
          "text": [
            "--2022-03-07 06:47:46--  https://raw.githubusercontent.com/dswh/lil_nlp_with_tensorflow/main/sonnets.txt\n",
            "Resolving raw.githubusercontent.com (raw.githubusercontent.com)... 185.199.108.133, 185.199.109.133, 185.199.110.133, ...\n",
            "Connecting to raw.githubusercontent.com (raw.githubusercontent.com)|185.199.108.133|:443... connected.\n",
            "HTTP request sent, awaiting response... 200 OK\n",
            "Length: 29658 (29K) [text/plain]\n",
            "Saving to: ‘/tmp/sonnet.txt’\n",
            "\n",
            "/tmp/sonnet.txt     100%[===================>]  28.96K  --.-KB/s    in 0.003s  \n",
            "\n",
            "2022-03-07 06:47:47 (9.34 MB/s) - ‘/tmp/sonnet.txt’ saved [29658/29658]\n",
            "\n"
          ]
        }
      ]
    },
    {
      "cell_type": "code",
      "source": [
        "shakespeare_text = open('/tmp/sonnet.txt').read()\n",
        "print(len(shakespeare_text))"
      ],
      "metadata": {
        "colab": {
          "base_uri": "https://localhost:8080/"
        },
        "id": "TOCy5MNuVMcI",
        "outputId": "3a16dcb4-55cf-4e41-fce8-e92f8e2cdf6b"
      },
      "execution_count": 3,
      "outputs": [
        {
          "output_type": "stream",
          "name": "stdout",
          "text": [
            "28893\n"
          ]
        }
      ]
    },
    {
      "cell_type": "code",
      "source": [
        "tokenizer = Tokenizer()\n",
        "\n",
        "# Create corpus by lowering the letters and splitting the text by \\n\n",
        "\n",
        "corpus = shakespeare_text.lower().split(\"\\n\")\n",
        "print(corpus)"
      ],
      "metadata": {
        "id": "aXiD1wWM9Tc4",
        "outputId": "cb5bc985-2a1a-4025-fe5a-0b0375fbb64c",
        "colab": {
          "base_uri": "https://localhost:8080/"
        }
      },
      "execution_count": 4,
      "outputs": [
        {
          "output_type": "stream",
          "name": "stdout",
          "text": [
            "['i', '', ' from fairest creatures we desire increase,', \" that thereby beauty's rose might never die,\", ' but as the riper should by time decease,', ' his tender heir might bear his memory:', ' but thou, contracted to thine own bright eyes,', \" feed'st thy light's flame with self-substantial fuel,\", ' making a famine where abundance lies,', ' thy self thy foe, to thy sweet self too cruel:', \" thou that art now the world's fresh ornament,\", ' and only herald to the gaudy spring,', ' within thine own bud buriest thy content,', \" and tender churl mak'st waste in niggarding:\", '   pity the world, or else this glutton be,', \"   to eat the world's due, by the grave and thee.\", '', ' ii', '', ' when forty winters shall besiege thy brow,', \" and dig deep trenches in thy beauty's field,\", \" thy youth's proud livery so gazed on now,\", \" will be a tatter'd weed of small worth held:\", ' then being asked, where all thy beauty lies,', ' where all the treasure of thy lusty days;', ' to say, within thine own deep sunken eyes,', ' were an all-eating shame, and thriftless praise.', \" how much more praise deserv'd thy beauty's use,\", \" if thou couldst answer 'this fair child of mine\", \" shall sum my count, and make my old excuse,'\", ' proving his beauty by succession thine!', '   this were to be new made when thou art old,', \"   and see thy blood warm when thou feel'st it cold.\", '', ' iii', '', ' look in thy glass and tell the face thou viewest', ' now is the time that face should form another;', ' whose fresh repair if now thou not renewest,', ' thou dost beguile the world, unbless some mother.', \" for where is she so fair whose unear'd womb\", ' disdains the tillage of thy husbandry?', ' or who is he so fond will be the tomb,', ' of his self-love to stop posterity?', \" thou art thy mother's glass and she in thee\", ' calls back the lovely april of her prime;', ' so thou through windows of thine age shalt see,', ' despite of wrinkles this thy golden time.', \"   but if thou live, remember'd not to be,\", '   die single and thine image dies with thee.', '', ' iv', '', ' unthrifty loveliness, why dost thou spend', \" upon thy self thy beauty's legacy?\", \" nature's bequest gives nothing, but doth lend,\", ' and being frank she lends to those are free:', ' then, beauteous niggard, why dost thou abuse', ' the bounteous largess given thee to give?', ' profitless usurer, why dost thou use', ' so great a sum of sums, yet canst not live?', ' for having traffic with thy self alone,', ' thou of thy self thy sweet self dost deceive:', ' then how when nature calls thee to be gone,', ' what acceptable audit canst thou leave?', '   thy unused beauty must be tombed with thee,', \"   which, used, lives th' executor to be.\", '', ' v', '', ' those hours, that with gentle work did frame', ' the lovely gaze where every eye doth dwell,', ' will play the tyrants to the very same', ' and that unfair which fairly doth excel;', ' for never-resting time leads summer on', ' to hideous winter, and confounds him there;', ' sap checked with frost, and lusty leaves quite gone,', \" beauty o'er-snowed and bareness every where:\", \" then were not summer's distillation left,\", ' a liquid prisoner pent in walls of glass,', \" beauty's effect with beauty were bereft,\", ' nor it, nor no remembrance what it was:', \"   but flowers distill'd, though they with winter meet,\", '   leese but their show; their substance still lives sweet.', '', '', ' vi', '', \" then let not winter's ragged hand deface,\", \" in thee thy summer, ere thou be distill'd:\", ' make sweet some vial; treasure thou some place', \" with beauty's treasure ere it be self-kill'd.\", ' that use is not forbidden usury,', ' which happies those that pay the willing loan;', \" that's for thy self to breed another thee,\", ' or ten times happier, be it ten for one;', ' ten times thy self were happier than thou art,', \" if ten of thine ten times refigur'd thee:\", ' then what could death do if thou shouldst depart,', ' leaving thee living in posterity?', \"   be not self-will'd, for thou art much too fair\", \"   to be death's conquest and make worms thine heir.\", '', ' vii', '', ' lo! in the orient when the gracious light', ' lifts up his burning head, each under eye', ' doth homage to his new-appearing sight,', ' serving with looks his sacred majesty;', \" and having climb'd the steep-up heavenly hill,\", ' resembling strong youth in his middle age,', ' yet mortal looks adore his beauty still,', ' attending on his golden pilgrimage:', ' but when from highmost pitch, with weary car,', ' like feeble age, he reeleth from the day,', \" the eyes, 'fore duteous, now converted are\", ' from his low tract, and look another way:', '   so thou, thyself outgoing in thy noon:', \"   unlook'd, on diest unless thou get a son.\", '', ' viii', '', \" music to hear, why hear'st thou music sadly?\", ' sweets with sweets war not, joy delights in joy:', \" why lov'st thou that which thou receiv'st not gladly,\", \" or else receiv'st with pleasure thine annoy?\", ' if the true concord of well-tuned sounds,', ' by unions married, do offend thine ear,', ' they do but sweetly chide thee, who confounds', ' in singleness the parts that thou shouldst bear.', ' mark how one string, sweet husband to another,', ' strikes each in each by mutual ordering;', ' resembling sire and child and happy mother,', ' who, all in one, one pleasing note do sing:', '   whose speechless song being many, seeming one,', \"   sings this to thee: 'thou single wilt prove none.'\", '', ' ix', '', \" is it for fear to wet a widow's eye,\", \" that thou consum'st thy self in single life?\", ' ah! if thou issueless shalt hap to die,', ' the world will wail thee like a makeless wife;', ' the world will be thy widow and still weep', ' that thou no form of thee hast left behind,', ' when every private widow well may keep', \" by children's eyes, her husband's shape in mind:\", ' look! what an unthrift in the world doth spend', ' shifts but his place, for still the world enjoys it;', \" but beauty's waste hath in the world an end,\", ' and kept unused the user so destroys it.', '   no love toward others in that bosom sits', \"   that on himself such murd'rous shame commits.\", '', ' x', '', \" for shame! deny that thou bear'st love to any,\", ' who for thy self art so unprovident.', \" grant, if thou wilt, thou art belov'd of many,\", \" but that thou none lov'st is most evident:\", \" for thou art so possess'd with murderous hate,\", \" that 'gainst thy self thou stick'st not to conspire,\", ' seeking that beauteous roof to ruinate', ' which to repair should be thy chief desire.', ' o! change thy thought, that i may change my mind:', \" shall hate be fairer lodg'd than gentle love?\", ' be, as thy presence is, gracious and kind,', ' or to thyself at least kind-hearted prove:', '   make thee another self for love of me,', '   that beauty still may live in thine or thee.', '', ' xi', '', \" as fast as thou shalt wane, so fast thou grow'st,\", ' in one of thine, from that which thou departest;', \" and that fresh blood which youngly thou bestow'st,\", ' thou mayst call thine when thou from youth convertest,', ' herein lives wisdom, beauty, and increase;', ' without this folly, age, and cold decay:', ' if all were minded so, the times should cease', ' and threescore year would make the world away.', ' let those whom nature hath not made for store,', ' harsh, featureless, and rude, barrenly perish:', \" look, whom she best endow'd, she gave thee more;\", ' which bounteous gift thou shouldst in bounty cherish:', \"   she carv'd thee for her seal, and meant thereby,\", '   thou shouldst print more, not let that copy die.', '', ' xii', '', ' when i do count the clock that tells the time,', ' and see the brave day sunk in hideous night;', ' when i behold the violet past prime,', \" and sable curls, all silvered o'er with white;\", ' when lofty trees i see barren of leaves,', ' which erst from heat did canopy the herd,', \" and summer's green all girded up in sheaves,\", ' borne on the bier with white and bristly beard,', ' then of thy beauty do i question make,', ' that thou among the wastes of time must go,', ' since sweets and beauties do themselves forsake', ' and die as fast as they see others grow;', \"   and nothing 'gainst time's scythe can make defence\", '   save breed, to brave him when he takes thee hence.', '', ' xiii', '', ' o! that you were your self; but, love you are', ' no longer yours, than you your self here live:', ' against this coming end you should prepare,', ' and your sweet semblance to some other give:', ' so should that beauty which you hold in lease', ' find no determination; then you were', \" yourself again, after yourself's decease,\", ' when your sweet issue your sweet form should bear.', ' who lets so fair a house fall to decay,', ' which husbandry in honour might uphold,', \" against the stormy gusts of winter's day\", \" and barren rage of death's eternal cold?\", '   o! none but unthrifts. dear my love, you know,', '   you had a father: let your son say so.', '', ' xiv', '', ' not from the stars do i my judgement pluck;', ' and yet methinks i have astronomy,', ' but not to tell of good or evil luck,', \" of plagues, of dearths, or seasons' quality;\", ' nor can i fortune to brief minutes tell,', ' pointing to each his thunder, rain and wind,', ' or say with princes if it shall go well', ' by oft predict that i in heaven find:', ' but from thine eyes my knowledge i derive,', ' and constant stars in them i read such art', \" as 'truth and beauty shall together thrive,\", \" if from thyself, to store thou wouldst convert';\", '   or else of thee this i prognosticate:', \"   'thy end is truth's and beauty's doom and date.'\", '', ' xv', '', ' when i consider every thing that grows', ' holds in perfection but a little moment,', ' that this huge stage presenteth nought but shows', ' whereon the stars in secret influence comment;', ' when i perceive that men as plants increase,', ' cheered and checked even by the self-same sky,', ' vaunt in their youthful sap, at height decrease,', ' and wear their brave state out of memory;', ' then the conceit of this inconstant stay', ' sets you most rich in youth before my sight,', ' where wasteful time debateth with decay', ' to change your day of youth to sullied night,', '   and all in war with time for love of you,', '   as he takes from you, i engraft you new.', '', ' xvi', '', ' but wherefore do not you a mightier way', ' make war upon this bloody tyrant, time?', ' and fortify your self in your decay', ' with means more blessed than my barren rhyme?', ' now stand you on the top of happy hours,', ' and many maiden gardens, yet unset,', ' with virtuous wish would bear you living flowers,', ' much liker than your painted counterfeit:', ' so should the lines of life that life repair,', \" which this, time's pencil, or my pupil pen,\", ' neither in inward worth nor outward fair,', ' can make you live your self in eyes of men.', '   to give away yourself, keeps yourself still,', '   and you must live, drawn by your own sweet skill.', '', ' xvii', '', ' who will believe my verse in time to come,', \" if it were fill'd with your most high deserts?\", ' though yet heaven knows it is but as a tomb', ' which hides your life, and shows not half your parts.', ' if i could write the beauty of your eyes,', ' and in fresh numbers number all your graces,', \" the age to come would say 'this poet lies;\", \" such heavenly touches ne'er touch'd earthly faces.'\", \" so should my papers, yellow'd with their age,\", \" be scorn'd, like old men of less truth than tongue,\", \" and your true rights be term'd a poet's rage\", ' and stretched metre of an antique song:', '   but were some child of yours alive that time,', '   you should live twice,--in it, and in my rhyme.', '', ' xviii', '', \" shall i compare thee to a summer's day?\", ' thou art more lovely and more temperate:', ' rough winds do shake the darling buds of may,', \" and summer's lease hath all too short a date:\", ' sometime too hot the eye of heaven shines,', \" and often is his gold complexion dimm'd,\", ' and every fair from fair sometime declines,', \" by chance, or nature's changing course untrimm'd:\", ' but thy eternal summer shall not fade,', \" nor lose possession of that fair thou ow'st,\", \" nor shall death brag thou wander'st in his shade,\", \" when in eternal lines to time thou grow'st,\", '   so long as men can breathe, or eyes can see,', '   so long lives this, and this gives life to thee.', '', ' xix', '', \" devouring time, blunt thou the lion's paws,\", ' and make the earth devour her own sweet brood;', \" pluck the keen teeth from the fierce tiger's jaws,\", \" and burn the long-liv'd phoenix, in her blood;\", ' make glad and sorry seasons as thou fleets,', \" and do whate'er thou wilt, swift-footed time,\", ' to the wide world and all her fading sweets;', ' but i forbid thee one most heinous crime:', \" o! carve not with thy hours my love's fair brow,\", ' nor draw no lines there with thine antique pen;', ' him in thy course untainted do allow', \" for beauty's pattern to succeeding men.\", '   yet, do thy worst old time: despite thy wrong,', '   my love shall in my verse ever live young.', '', ' xx', '', \" a woman's face with nature's own hand painted,\", ' hast thou, the master mistress of my passion;', \" a woman's gentle heart, but not acquainted\", \" with shifting change, as is false women's fashion:\", ' an eye more bright than theirs, less false in rolling,', ' gilding the object whereupon it gazeth;', \" a man in hue all 'hues' in his controlling,\", \" which steals men's eyes and women's souls amazeth.\", ' and for a woman wert thou first created;', ' till nature, as she wrought thee, fell a-doting,', ' and by addition me of thee defeated,', ' by adding one thing to my purpose nothing.', \"   but since she prick'd thee out for women's pleasure,\", \"   mine be thy love and thy love's use their treasure.\", '', ' xxi', '', ' so is it not with me as with that muse,', \" stirr'd by a painted beauty to his verse,\", ' who heaven itself for ornament doth use', ' and every fair with his fair doth rehearse,', ' making a couplement of proud compare.', \" with sun and moon, with earth and sea's rich gems,\", \" with april's first-born flowers, and all things rare,\", \" that heaven's air in this huge rondure hems.\", ' o! let me, true in love, but truly write,', ' and then believe me, my love is as fair', \" as any mother's child, though not so bright\", \" as those gold candles fix'd in heaven's air:\", '   let them say more that like of hearsay well;', '   i will not praise that purpose not to sell.', '', ' xxii', '', ' my glass shall not persuade me i am old,', ' so long as youth and thou are of one date;', \" but when in thee time's furrows i behold,\", ' then look i death my days should expiate.', ' for all that beauty that doth cover thee,', ' is but the seemly raiment of my heart,', ' which in thy breast doth live, as thine in me:', ' how can i then be elder than thou art?', ' o! therefore love, be of thyself so wary', ' as i, not for myself, but for thee will;', ' bearing thy heart, which i will keep so chary', ' as tender nurse her babe from faring ill.', '   presume not on thy heart when mine is slain,', \"   thou gav'st me thine not to give back again.\", '', ' xxiii', '', ' as an unperfect actor on the stage,', ' who with his fear is put beside his part,', ' or some fierce thing replete with too much rage,', \" whose strength's abundance weakens his own heart;\", ' so i, for fear of trust, forget to say', \" the perfect ceremony of love's rite,\", \" and in mine own love's strength seem to decay,\", \" o'ercharg'd with burthen of mine own love's might.\", ' o! let my looks be then the eloquence', ' and dumb presagers of my speaking breast,', ' who plead for love, and look for recompense,', \" more than that tongue that more hath more express'd.\", '   o! learn to read what silent love hath writ:', \"   to hear with eyes belongs to love's fine wit.\", '', ' xxiv', '', \" mine eye hath play'd the painter and hath stell'd,\", \" thy beauty's form in table of my heart;\", \" my body is the frame wherein 'tis held,\", \" and perspective it is best painter's art.\", ' for through the painter must you see his skill,', \" to find where your true image pictur'd lies,\", \" which in my bosom's shop is hanging still,\", ' that hath his windows glazed with thine eyes.', ' now see what good turns eyes for eyes have done:', ' mine eyes have drawn thy shape, and thine for me', ' are windows to my breast, where-through the sun', ' delights to peep, to gaze therein on thee;', '   yet eyes this cunning want to grace their art,', '   they draw but what they see, know not the heart.', '', ' xxv', '', ' let those who are in favour with their stars', ' of public honour and proud titles boast,', ' whilst i, whom fortune of such triumph bars', \" unlook'd for joy in that i honour most.\", \" great princes' favourites their fair leaves spread\", \" but as the marigold at the sun's eye,\", ' and in themselves their pride lies buried,', ' for at a frown they in their glory die.', ' the painful warrior famoused for fight,', \" after a thousand victories once foil'd,\", ' is from the book of honour razed quite,', \" and all the rest forgot for which he toil'd:\", \"   then happy i, that love and am belov'd,\", \"   where i may not remove nor be remov'd.\", '', ' xxvi', '', ' lord of my love, to whom in vassalage', ' thy merit hath my duty strongly knit,', ' to thee i send this written embassage,', ' to witness duty, not to show my wit:', ' duty so great, which wit so poor as mine', ' may make seem bare, in wanting words to show it,', ' but that i hope some good conceit of thine', \" in thy soul's thought, all naked, will bestow it:\", ' till whatsoever star that guides my moving,', ' points on me graciously with fair aspect,', \" and puts apparel on my tatter'd loving,\", ' to show me worthy of thy sweet respect:', '   then may i dare to boast how i do love thee;', '   till then, not show my head where thou mayst prove me.', '', ' xxvii', '', ' weary with toil, i haste me to my bed,', \" the dear respose for limbs with travel tir'd;\", ' but then begins a journey in my head', \" to work my mind, when body's work's expired:\", ' for then my thoughts--from far where i abide--', ' intend a zealous pilgrimage to thee,', ' and keep my drooping eyelids open wide,', ' looking on darkness which the blind do see:', \" save that my soul's imaginary sight\", ' presents thy shadow to my sightless view,', ' which, like a jewel hung in ghastly night,', ' makes black night beauteous, and her old face new.', '   lo! thus, by day my limbs, by night my mind,', '   for thee, and for myself, no quiet find.', '', ' xxviii', '', ' how can i then return in happy plight,', \" that am debarre'd the benefit of rest?\", \" when day's oppression is not eas'd by night,\", \" but day by night and night by day oppress'd,\", \" and each, though enemies to either's reign,\", ' do in consent shake hands to torture me,', ' the one by toil, the other to complain', ' how far i toil, still farther off from thee.', ' i tell the day, to please him thou art bright,', ' and dost him grace when clouds do blot the heaven:', \" so flatter i the swart-complexion'd night,\", \" when sparkling stars twire not thou gild'st the even.\", '   but day doth daily draw my sorrows longer,', \"   and night doth nightly make grief's length seem stronger.\", '', ' xxix', '', \" when in disgrace with fortune and men's eyes\", ' i all alone beweep my outcast state,', ' and trouble deaf heaven with my bootless cries,', ' and look upon myself, and curse my fate,', ' wishing me like to one more rich in hope,', \" featur'd like him, like him with friends possess'd,\", \" desiring this man's art, and that man's scope,\", ' with what i most enjoy contented least;', ' yet in these thoughts my self almost despising,', ' haply i think on thee,-- and then my state,', ' like to the lark at break of day arising', \" from sullen earth, sings hymns at heaven's gate;\", \"   for thy sweet love remember'd such wealth brings\", '   that then i scorn to change my state with kings.', '', ' xxx', '', ' when to the sessions of sweet silent thought', ' i summon up remembrance of things past,', ' i sigh the lack of many a thing i sought,', \" and with old woes new wail my dear time's waste:\", ' then can i drown an eye, unused to flow,', \" for precious friends hid in death's dateless night,\", \" and weep afresh love's long since cancell'd woe,\", \" and moan the expense of many a vanish'd sight:\", ' then can i grieve at grievances foregone,', \" and heavily from woe to woe tell o'er\", ' the sad account of fore-bemoaned moan,', ' which i new pay as if not paid before.', '   but if the while i think on thee, dear friend,', \"   all losses are restor'd and sorrows end.\", '', ' xxxi', '', ' thy bosom is endeared with all hearts,', ' which i by lacking have supposed dead;', \" and there reigns love, and all love's loving parts,\", ' and all those friends which i thought buried.', ' how many a holy and obsequious tear', \" hath dear religious love stol'n from mine eye,\", ' as interest of the dead, which now appear', \" but things remov'd that hidden in thee lie!\", ' thou art the grave where buried love doth live,', ' hung with the trophies of my lovers gone,', ' who all their parts of me to thee did give,', ' that due of many now is thine alone:', \"   their images i lov'd, i view in thee,\", '   and thou--all they--hast all the all of me.', '', ' xxxii', '', ' if thou survive my well-contented day,', ' when that churl death my bones with dust shall cover', ' and shalt by fortune once more re-survey', ' these poor rude lines of thy deceased lover,', \" compare them with the bett'ring of the time,\", \" and though they be outstripp'd by every pen,\", ' reserve them for my love, not for their rhyme,', ' exceeded by the height of happier men.', ' o! then vouchsafe me but this loving thought:', \" 'had my friend's muse grown with this growing age,\", ' a dearer birth than this his love had brought,', ' to march in ranks of better equipage:', '   but since he died and poets better prove,', \"   theirs for their style i'll read, his for his love'.\", '', ' xxxiii', '', ' full many a glorious morning have i seen', ' flatter the mountain tops with sovereign eye,', ' kissing with golden face the meadows green,', ' gilding pale streams with heavenly alchemy;', ' anon permit the basest clouds to ride', ' with ugly rack on his celestial face,', ' and from the forlorn world his visage hide,', ' stealing unseen to west with this disgrace:', ' even so my sun one early morn did shine,', ' with all triumphant splendour on my brow;', ' but out! alack! he was but one hour mine,', \" the region cloud hath mask'd him from me now.\", '   yet him for this my love no whit disdaineth;', \"   suns of the world may stain when heaven's sun staineth.\", '', ' xxxiv', '', ' why didst thou promise such a beauteous day,', ' and make me travel forth without my cloak,', \" to let base clouds o'ertake me in my way,\", ' hiding thy bravery in their rotten smoke?', \" 'tis not enough that through the cloud thou break,\", ' to dry the rain on my storm-beaten face,', ' for no man well of such a salve can speak,', ' that heals the wound, and cures not the disgrace:', ' nor can thy shame give physic to my grief;', ' though thou repent, yet i have still the loss:', \" the offender's sorrow lends but weak relief\", \" to him that bears the strong offence's cross.\", '   ah! but those tears are pearl which thy love sheds,', '   and they are rich and ransom all ill deeds.', '', ' xxxv', '', \" no more be griev'd at that which thou hast done:\", ' roses have thorns, and silver fountains mud:', ' clouds and eclipses stain both moon and sun,', ' and loathsome canker lives in sweetest bud.', ' all men make faults, and even i in this,', ' authorizing thy trespass with compare,', ' myself corrupting, salving thy amiss,', ' excusing thy sins more than thy sins are;', ' for to thy sensual fault i bring in sense,--', ' thy adverse party is thy advocate,--', \" and 'gainst myself a lawful plea commence:\", ' such civil war is in my love and hate,', '   that i an accessary needs must be,', '   to that sweet thief which sourly robs from me.', '', ' xxxvi', '', ' let me confess that we two must be twain,', ' although our undivided loves are one:', ' so shall those blots that do with me remain,', ' without thy help, by me be borne alone.', ' in our two loves there is but one respect,', ' though in our lives a separable spite,', \" which though it alter not love's sole effect,\", \" yet doth it steal sweet hours from love's delight.\", ' i may not evermore acknowledge thee,', ' lest my bewailed guilt should do thee shame,', ' nor thou with public kindness honour me,', ' unless thou take that honour from thy name:', '   but do not so, i love thee in such sort,', '   as thou being mine, mine is thy good report.', '', ' xxxvii', '', ' as a decrepit father takes delight', ' to see his active child do deeds of youth,', \" so i, made lame by fortune's dearest spite,\", ' take all my comfort of thy worth and truth;', ' for whether beauty, birth, or wealth, or wit,', ' or any of these all, or all, or more,', ' entitled in thy parts, do crowned sit,', ' i make my love engrafted, to this store:', \" so then i am not lame, poor, nor despis'd,\", ' whilst that this shadow doth such substance give', \" that i in thy abundance am suffic'd,\", ' and by a part of all thy glory live.', '   look what is best, that best i wish in thee:', '   this wish i have; then ten times happy me!', '', ' xxxviii', '', ' how can my muse want subject to invent,', \" while thou dost breathe, that pour'st into my verse\", ' thine own sweet argument, too excellent', ' for every vulgar paper to rehearse?', ' o! give thy self the thanks, if aught in me', ' worthy perusal stand against thy sight;', \" for who's so dumb that cannot write to thee,\", ' when thou thy self dost give invention light?', ' be thou the tenth muse, ten times more in worth', ' than those old nine which rhymers invocate;', ' and he that calls on thee, let him bring forth', ' eternal numbers to outlive long date.', '   if my slight muse do please these curious days,', '   the pain be mine, but thine shall be the praise.', '', ' xxxix', '', ' o! how thy worth with manners may i sing,', ' when thou art all the better part of me?', ' what can mine own praise to mine own self bring?', \" and what is't but mine own when i praise thee?\", ' even for this, let us divided live,', ' and our dear love lose name of single one,', ' that by this separation i may give', \" that due to thee which thou deserv'st alone.\", ' o absence! what a torment wouldst thou prove,', ' were it not thy sour leisure gave sweet leave,', ' to entertain the time with thoughts of love,', ' which time and thoughts so sweetly doth deceive,', '   and that thou teachest how to make one twain,', '   by praising him here who doth hence remain.', '', ' xl', '', ' take all my loves, my love, yea take them all;', ' what hast thou then more than thou hadst before?', ' no love, my love, that thou mayst true love call;', ' all mine was thine, before thou hadst this more.', ' then, if for my love, thou my love receivest,', ' i cannot blame thee, for my love thou usest;', \" but yet be blam'd, if thou thy self deceivest\", ' by wilful taste of what thyself refusest.', ' i do forgive thy robbery, gentle thief,', ' although thou steal thee all my poverty:', ' and yet, love knows it is a greater grief', \" to bear love's wrong, than hate's known injury.\", '   lascivious grace, in whom all ill well shows,', '   kill me with spites yet we must not be foes.', '', ' xli', '', ' those pretty wrongs that liberty commits,', ' when i am sometime absent from thy heart,', ' thy beauty, and thy years full well befits,', ' for still temptation follows where thou art.', ' gentle thou art, and therefore to be won,', \" beauteous thou art, therefore to be assail'd;\", \" and when a woman woos, what woman's son\", \" will sourly leave her till he have prevail'd?\", ' ay me! but yet thou mightst my seat forbear,', ' and chide thy beauty and thy straying youth,', ' who lead thee in their riot even there', ' where thou art forced to break a twofold truth:--', '   hers by thy beauty tempting her to thee,', '   thine by thy beauty being false to me.', '', ' xlii', '', ' that thou hast her it is not all my grief,', ' and yet it may be said i loved her dearly;', ' that she hath thee is of my wailing chief,', ' a loss in love that touches me more nearly.', ' loving offenders thus i will excuse ye:', \" thou dost love her, because thou know'st i love her;\", ' and for my sake even so doth she abuse me,', ' suffering my friend for my sake to approve her.', \" if i lose thee, my loss is my love's gain,\", ' and losing her, my friend hath found that loss;', ' both find each other, and i lose both twain,', ' and both for my sake lay on me this cross:', \"   but here's the joy; my friend and i are one;\", '   sweet flattery! then she loves but me alone.', '', ' xliii', '', ' when most i wink, then do mine eyes best see,', ' for all the day they view things unrespected;', ' but when i sleep, in dreams they look on thee,', ' and darkly bright, are bright in dark directed.', ' then thou, whose shadow shadows doth make bright,', \" how would thy shadow's form form happy show\", ' to the clear day with thy much clearer light,', ' when to unseeing eyes thy shade shines so!', ' how would, i say, mine eyes be blessed made', ' by looking on thee in the living day,', ' when in dead night thy fair imperfect shade', ' through heavy sleep on sightless eyes doth stay!', '   all days are nights to see till i see thee,', '   and nights bright days when dreams do show thee me.', '', ' xliv', '', ' if the dull substance of my flesh were thought,', ' injurious distance should not stop my way;', ' for then despite of space i would be brought,', ' from limits far remote, where thou dost stay.', ' no matter then although my foot did stand', \" upon the farthest earth remov'd from thee;\", ' for nimble thought can jump both sea and land,', ' as soon as think the place where he would be.', ' but, ah! thought kills me that i am not thought,', ' to leap large lengths of miles when thou art gone,', ' but that so much of earth and water wrought,', \" i must attend time's leisure with my moan;\", '   receiving nought by elements so slow', \"   but heavy tears, badges of either's woe.\", '', ' xlv', '', ' the other two, slight air, and purging fire', ' are both with thee, wherever i abide;', ' the first my thought, the other my desire,', ' these present-absent with swift motion slide.', ' for when these quicker elements are gone', ' in tender embassy of love to thee,', ' my life, being made of four, with two alone', \" sinks down to death, oppress'd with melancholy;\", \" until life's composition be recur'd\", \" by those swift messengers return'd from thee,\", \" who even but now come back again, assur'd,\", ' of thy fair health, recounting it to me:', '   this told, i joy; but then no longer glad,', '   i send them back again, and straight grow sad.', '']\n"
          ]
        }
      ]
    },
    {
      "cell_type": "markdown",
      "source": [
        "Step 2: Train the Tokenizer and create word encoding dictionary"
      ],
      "metadata": {
        "id": "6X_7CIokV0F0"
      }
    },
    {
      "cell_type": "code",
      "source": [
        "tokenizer.fit_on_texts(corpus)\n",
        "\n",
        "vocab_size = len(tokenizer.word_index) + 1 # for <oov> token\n",
        "\n",
        "print(tokenizer.word_index)\n",
        "print(vocab_size)"
      ],
      "metadata": {
        "colab": {
          "base_uri": "https://localhost:8080/"
        },
        "id": "zynSeKWyV6qt",
        "outputId": "8da693c8-3c57-4c8c-fbd1-96661df383be"
      },
      "execution_count": 5,
      "outputs": [
        {
          "output_type": "stream",
          "name": "stdout",
          "text": [
            "{'and': 1, 'the': 2, 'to': 3, 'thou': 4, 'in': 5, 'my': 6, 'of': 7, 'i': 8, 'thy': 9, 'that': 10, 'with': 11, 'thee': 12, 'for': 13, 'but': 14, 'not': 15, 'a': 16, 'love': 17, 'be': 18, 'all': 19, 'me': 20, 'when': 21, 'so': 22, 'by': 23, 'then': 24, 'is': 25, 'which': 26, 'as': 27, 'this': 28, 'from': 29, 'his': 30, 'self': 31, 'do': 32, 'thine': 33, 'it': 34, 'on': 35, 'art': 36, 'if': 37, 'eyes': 38, 'more': 39, 'or': 40, 'beauty': 41, 'mine': 42, 'doth': 43, 'you': 44, 'your': 45, 'time': 46, 'sweet': 47, 'make': 48, 'one': 49, 'where': 50, 'their': 51, 'fair': 52, 'her': 53, 'are': 54, 'yet': 55, 'day': 56, 'what': 57, 'see': 58, 'who': 59, 'than': 60, 'can': 61, 'should': 62, 'own': 63, 'shall': 64, 'how': 65, 'no': 66, 'hath': 67, 'will': 68, 'were': 69, 'live': 70, 'those': 71, 'him': 72, 'let': 73, 'may': 74, 'o': 75, 'night': 76, \"love's\": 77, 'now': 78, 'world': 79, 'she': 80, 'nor': 81, 'they': 82, \"beauty's\": 83, 'dost': 84, 'he': 85, 'give': 86, 'eye': 87, 'still': 88, 'such': 89, 'thought': 90, 'look': 91, 'like': 92, 'have': 93, 'bright': 94, 'an': 95, 'old': 96, 'must': 97, 'every': 98, 'though': 99, 'well': 100, 'many': 101, 'at': 102, 'even': 103, 'heart': 104, 'say': 105, 'face': 106, 'some': 107, 'age': 108, 'alone': 109, 'show': 110, 'ten': 111, 'youth': 112, 'most': 113, 'would': 114, 'men': 115, 'am': 116, 'die': 117, 'too': 118, 'being': 119, 'praise': 120, 'much': 121, 'new': 122, 'form': 123, 'why': 124, 'lives': 125, 'times': 126, 'each': 127, 'happy': 128, 'life': 129, 'hast': 130, 'honour': 131, 'dear': 132, 'heaven': 133, 'them': 134, 'long': 135, 'these': 136, 'both': 137, 'bear': 138, 'lies': 139, 'worth': 140, 'days': 141, 'shame': 142, 'use': 143, 'child': 144, 'made': 145, 'tell': 146, 'another': 147, 'whose': 148, 'through': 149, 'beauteous': 150, 'gone': 151, 'gentle': 152, 'did': 153, 'there': 154, 'death': 155, 'sight': 156, 'thyself': 157, 'joy': 158, 'true': 159, 'parts': 160, 'prove': 161, 'change': 162, 'decay': 163, 'whom': 164, 'best': 165, \"time's\": 166, 'other': 167, 'find': 168, 'stars': 169, 'earth': 170, 'till': 171, 'muse': 172, 'sun': 173, 'myself': 174, 'might': 175, 'tender': 176, 'fresh': 177, 'treasure': 178, \"'\": 179, 'glass': 180, 'back': 181, 'shalt': 182, 'single': 183, 'upon': 184, 'hours': 185, \"summer's\": 186, 'shouldst': 187, 'up': 188, 'way': 189, 'sweets': 190, 'war': 191, 'mind': 192, 'end': 193, 'since': 194, 'again': 195, 'eternal': 196, 'good': 197, 'fortune': 198, 'date': 199, 'thing': 200, 'state': 201, 'rich': 202, 'before': 203, 'lines': 204, 'verse': 205, 'compare': 206, 'lose': 207, 'things': 208, \"heaven's\": 209, 'wit': 210, 'loving': 211, 'thoughts': 212, 'clouds': 213, 'woe': 214, 'friend': 215, 'loss': 216, 'two': 217, 'our': 218, 'loves': 219, 'take': 220, 'we': 221, 'desire': 222, 'increase': 223, 'abundance': 224, 'waste': 225, 'else': 226, 'due': 227, 'brow': 228, 'proud': 229, 'blood': 230, 'cold': 231, 'repair': 232, 'calls': 233, 'lovely': 234, 'windows': 235, 'despite': 236, 'golden': 237, \"nature's\": 238, 'nothing': 239, 'great': 240, 'nature': 241, 'leave': 242, 'unused': 243, 'summer': 244, 'leaves': 245, \"o'er\": 246, 'was': 247, 'flowers': 248, 'substance': 249, 'place': 250, 'happier': 251, 'living': 252, \"death's\": 253, 'light': 254, 'head': 255, 'looks': 256, 'heavenly': 257, 'son': 258, 'wilt': 259, 'none': 260, 'fear': 261, 'ah': 262, 'keep': 263, 'any': 264, 'hate': 265, \"'gainst\": 266, 'fast': 267, 'mayst': 268, 'without': 269, 'store': 270, 'brave': 271, 'barren': 272, 'takes': 273, 'longer': 274, 'against': 275, 'yourself': 276, 'rage': 277, 'read': 278, 'shows': 279, 'out': 280, 'stay': 281, 'rhyme': 282, 'stand': 283, 'wish': 284, 'painted': 285, 'pen': 286, 'come': 287, 'write': 288, 'truth': 289, 'sometime': 290, 'shade': 291, 'swift': 292, 'draw': 293, \"woman's\": 294, 'false': 295, \"women's\": 296, 'first': 297, 'air': 298, 'breast': 299, 'therefore': 300, 'ill': 301, 'part': 302, 'seem': 303, 'grace': 304, 'buried': 305, \"remov'd\": 306, 'duty': 307, 'poor': 308, 'toil': 309, 'far': 310, 'shadow': 311, 'view': 312, 'disgrace': 313, 'friends': 314, 'think': 315, 'break': 316, 'moan': 317, 'dead': 318, 'better': 319, 'grief': 320, 'bring': 321, 'twain': 322, 'although': 323, 'sake': 324, 'thereby': 325, 'never': 326, 'decease': 327, 'heir': 328, 'memory': 329, 'making': 330, \"world's\": 331, 'ornament': 332, 'within': 333, 'bud': 334, 'churl': 335, 'grave': 336, 'deep': 337, \"tatter'd\": 338, 'held': 339, 'lusty': 340, \"'this\": 341, 'sum': 342, 'count': 343, 'excuse': 344, 'mother': 345, 'husbandry': 346, 'tomb': 347, 'stop': 348, 'posterity': 349, \"mother's\": 350, 'prime': 351, \"remember'd\": 352, 'image': 353, 'spend': 354, 'gives': 355, 'lends': 356, 'abuse': 357, 'bounteous': 358, 'canst': 359, 'having': 360, 'deceive': 361, 'work': 362, 'frame': 363, 'gaze': 364, 'same': 365, 'hideous': 366, 'winter': 367, 'confounds': 368, 'sap': 369, 'checked': 370, 'quite': 371, 'left': 372, 'effect': 373, 'remembrance': 374, \"distill'd\": 375, \"winter's\": 376, 'hand': 377, 'ere': 378, 'pay': 379, 'breed': 380, 'could': 381, 'lo': 382, 'gracious': 383, 'resembling': 384, 'strong': 385, 'pilgrimage': 386, 'weary': 387, \"unlook'd\": 388, 'unless': 389, 'music': 390, 'hear': 391, 'delights': 392, \"lov'st\": 393, \"receiv'st\": 394, 'pleasure': 395, 'sweetly': 396, 'chide': 397, 'sing': 398, 'song': 399, 'sings': 400, 'wail': 401, 'widow': 402, 'weep': 403, 'shape': 404, 'others': 405, 'bosom': 406, 'commits': 407, \"belov'd\": 408, \"possess'd\": 409, 'chief': 410, 'kind': 411, 'least': 412, \"grow'st\": 413, 'call': 414, 'away': 415, 'rude': 416, 'gave': 417, 'behold': 418, 'past': 419, 'white': 420, 'green': 421, 'borne': 422, 'go': 423, 'themselves': 424, 'grow': 425, 'save': 426, 'hence': 427, 'yours': 428, 'here': 429, 'lease': 430, 'after': 431, 'know': 432, 'had': 433, 'father': 434, 'pluck': 435, 'rain': 436, 'wouldst': 437, 'huge': 438, 'stage': 439, 'nought': 440, 'height': 441, 'conceit': 442, 'blessed': 443, 'drawn': 444, 'skill': 445, 'believe': 446, 'knows': 447, 'numbers': 448, 'touches': 449, 'less': 450, 'tongue': 451, 'antique': 452, 'shake': 453, 'shines': 454, 'gold': 455, 'course': 456, 'breathe': 457, 'fierce': 458, 'glad': 459, 'wide': 460, 'wrong': 461, 'theirs': 462, 'gilding': 463, 'man': 464, \"men's\": 465, 'woman': 466, 'wrought': 467, 'purpose': 468, 'rehearse': 469, 'moon': 470, 'cover': 471, 'dumb': 472, 'silent': 473, 'painter': 474, \"'tis\": 475, 'done': 476, 'want': 477, 'public': 478, 'boast': 479, 'whilst': 480, 'glory': 481, 'once': 482, 'rest': 483, 'send': 484, 'hope': 485, \"soul's\": 486, 'worthy': 487, 'respect': 488, 'limbs': 489, 'travel': 490, 'abide': 491, 'looking': 492, 'sightless': 493, 'hung': 494, 'thus': 495, \"oppress'd\": 496, \"either's\": 497, 'please': 498, 'flatter': 499, 'sorrows': 500, \"man's\": 501, 'contented': 502, 'wealth': 503, 'sad': 504, 'while': 505, 'birth': 506, 'brought': 507, 'full': 508, 'cloud': 509, 'stain': 510, 'forth': 511, 'cross': 512, 'tears': 513, 'deeds': 514, 'sins': 515, 'thief': 516, 'sourly': 517, 'remain': 518, 'spite': 519, 'steal': 520, 'delight': 521, 'name': 522, 'lame': 523, 'cannot': 524, 'slight': 525, 'leisure': 526, 'hadst': 527, 'absent': 528, 'sleep': 529, 'dreams': 530, 'heavy': 531, 'nights': 532, 'elements': 533, 'fairest': 534, 'creatures': 535, 'rose': 536, 'riper': 537, 'contracted': 538, \"feed'st\": 539, \"light's\": 540, 'flame': 541, 'substantial': 542, 'fuel': 543, 'famine': 544, 'foe': 545, 'cruel': 546, 'only': 547, 'herald': 548, 'gaudy': 549, 'spring': 550, 'buriest': 551, 'content': 552, \"mak'st\": 553, 'niggarding': 554, 'pity': 555, 'glutton': 556, 'eat': 557, 'ii': 558, 'forty': 559, 'winters': 560, 'besiege': 561, 'dig': 562, 'trenches': 563, 'field': 564, \"youth's\": 565, 'livery': 566, 'gazed': 567, 'weed': 568, 'small': 569, 'asked': 570, 'sunken': 571, 'eating': 572, 'thriftless': 573, \"deserv'd\": 574, 'couldst': 575, 'answer': 576, 'proving': 577, 'succession': 578, 'warm': 579, \"feel'st\": 580, 'iii': 581, 'viewest': 582, 'renewest': 583, 'beguile': 584, 'unbless': 585, \"unear'd\": 586, 'womb': 587, 'disdains': 588, 'tillage': 589, 'fond': 590, 'april': 591, 'wrinkles': 592, 'dies': 593, 'iv': 594, 'unthrifty': 595, 'loveliness': 596, 'legacy': 597, 'bequest': 598, 'lend': 599, 'frank': 600, 'free': 601, 'niggard': 602, 'largess': 603, 'given': 604, 'profitless': 605, 'usurer': 606, 'sums': 607, 'traffic': 608, 'acceptable': 609, 'audit': 610, 'tombed': 611, 'used': 612, \"th'\": 613, 'executor': 614, 'v': 615, 'dwell': 616, 'play': 617, 'tyrants': 618, 'very': 619, 'unfair': 620, 'fairly': 621, 'excel': 622, 'resting': 623, 'leads': 624, 'frost': 625, 'snowed': 626, 'bareness': 627, 'distillation': 628, 'liquid': 629, 'prisoner': 630, 'pent': 631, 'walls': 632, 'bereft': 633, 'meet': 634, 'leese': 635, 'vi': 636, 'ragged': 637, 'deface': 638, 'vial': 639, \"kill'd\": 640, 'forbidden': 641, 'usury': 642, 'happies': 643, 'willing': 644, 'loan': 645, \"that's\": 646, \"refigur'd\": 647, 'depart': 648, 'leaving': 649, \"will'd\": 650, 'conquest': 651, 'worms': 652, 'vii': 653, 'orient': 654, 'lifts': 655, 'burning': 656, 'under': 657, 'homage': 658, 'appearing': 659, 'serving': 660, 'sacred': 661, 'majesty': 662, \"climb'd\": 663, 'steep': 664, 'hill': 665, 'middle': 666, 'mortal': 667, 'adore': 668, 'attending': 669, 'highmost': 670, 'pitch': 671, 'car': 672, 'feeble': 673, 'reeleth': 674, \"'fore\": 675, 'duteous': 676, 'converted': 677, 'low': 678, 'tract': 679, 'outgoing': 680, 'noon': 681, 'diest': 682, 'get': 683, 'viii': 684, \"hear'st\": 685, 'sadly': 686, 'gladly': 687, 'annoy': 688, 'concord': 689, 'tuned': 690, 'sounds': 691, 'unions': 692, 'married': 693, 'offend': 694, 'ear': 695, 'singleness': 696, 'mark': 697, 'string': 698, 'husband': 699, 'strikes': 700, 'mutual': 701, 'ordering': 702, 'sire': 703, 'pleasing': 704, 'note': 705, 'speechless': 706, 'seeming': 707, \"'thou\": 708, 'ix': 709, 'wet': 710, \"widow's\": 711, \"consum'st\": 712, 'issueless': 713, 'hap': 714, 'makeless': 715, 'wife': 716, 'behind': 717, 'private': 718, \"children's\": 719, \"husband's\": 720, 'unthrift': 721, 'shifts': 722, 'enjoys': 723, 'kept': 724, 'user': 725, 'destroys': 726, 'toward': 727, 'sits': 728, 'himself': 729, \"murd'rous\": 730, 'x': 731, 'deny': 732, \"bear'st\": 733, 'unprovident': 734, 'grant': 735, 'evident': 736, 'murderous': 737, \"stick'st\": 738, 'conspire': 739, 'seeking': 740, 'roof': 741, 'ruinate': 742, 'fairer': 743, \"lodg'd\": 744, 'presence': 745, 'hearted': 746, 'xi': 747, 'wane': 748, 'departest': 749, 'youngly': 750, \"bestow'st\": 751, 'convertest': 752, 'herein': 753, 'wisdom': 754, 'folly': 755, 'minded': 756, 'cease': 757, 'threescore': 758, 'year': 759, 'harsh': 760, 'featureless': 761, 'barrenly': 762, 'perish': 763, \"endow'd\": 764, 'gift': 765, 'bounty': 766, 'cherish': 767, \"carv'd\": 768, 'seal': 769, 'meant': 770, 'print': 771, 'copy': 772, 'xii': 773, 'clock': 774, 'tells': 775, 'sunk': 776, 'violet': 777, 'sable': 778, 'curls': 779, 'silvered': 780, 'lofty': 781, 'trees': 782, 'erst': 783, 'heat': 784, 'canopy': 785, 'herd': 786, 'girded': 787, 'sheaves': 788, 'bier': 789, 'bristly': 790, 'beard': 791, 'question': 792, 'among': 793, 'wastes': 794, 'beauties': 795, 'forsake': 796, 'scythe': 797, 'defence': 798, 'xiii': 799, 'coming': 800, 'prepare': 801, 'semblance': 802, 'hold': 803, 'determination': 804, \"yourself's\": 805, 'issue': 806, 'lets': 807, 'house': 808, 'fall': 809, 'uphold': 810, 'stormy': 811, 'gusts': 812, 'unthrifts': 813, 'xiv': 814, 'judgement': 815, 'methinks': 816, 'astronomy': 817, 'evil': 818, 'luck': 819, 'plagues': 820, 'dearths': 821, \"seasons'\": 822, 'quality': 823, 'brief': 824, 'minutes': 825, 'pointing': 826, 'thunder': 827, 'wind': 828, 'princes': 829, 'oft': 830, 'predict': 831, 'knowledge': 832, 'derive': 833, 'constant': 834, \"'truth\": 835, 'together': 836, 'thrive': 837, \"convert'\": 838, 'prognosticate': 839, \"'thy\": 840, \"truth's\": 841, 'doom': 842, 'xv': 843, 'consider': 844, 'grows': 845, 'holds': 846, 'perfection': 847, 'little': 848, 'moment': 849, 'presenteth': 850, 'whereon': 851, 'secret': 852, 'influence': 853, 'comment': 854, 'perceive': 855, 'plants': 856, 'cheered': 857, 'sky': 858, 'vaunt': 859, 'youthful': 860, 'decrease': 861, 'wear': 862, 'inconstant': 863, 'sets': 864, 'wasteful': 865, 'debateth': 866, 'sullied': 867, 'engraft': 868, 'xvi': 869, 'wherefore': 870, 'mightier': 871, 'bloody': 872, 'tyrant': 873, 'fortify': 874, 'means': 875, 'top': 876, 'maiden': 877, 'gardens': 878, 'unset': 879, 'virtuous': 880, 'liker': 881, 'counterfeit': 882, 'pencil': 883, 'pupil': 884, 'neither': 885, 'inward': 886, 'outward': 887, 'keeps': 888, 'xvii': 889, \"fill'd\": 890, 'high': 891, 'deserts': 892, 'hides': 893, 'half': 894, 'number': 895, 'graces': 896, 'poet': 897, \"ne'er\": 898, \"touch'd\": 899, 'earthly': 900, 'faces': 901, 'papers': 902, \"yellow'd\": 903, \"scorn'd\": 904, 'rights': 905, \"term'd\": 906, \"poet's\": 907, 'stretched': 908, 'metre': 909, 'alive': 910, 'twice': 911, 'xviii': 912, 'temperate': 913, 'rough': 914, 'winds': 915, 'darling': 916, 'buds': 917, 'short': 918, 'hot': 919, 'often': 920, 'complexion': 921, \"dimm'd\": 922, 'declines': 923, 'chance': 924, 'changing': 925, \"untrimm'd\": 926, 'fade': 927, 'possession': 928, \"ow'st\": 929, 'brag': 930, \"wander'st\": 931, 'xix': 932, 'devouring': 933, 'blunt': 934, \"lion's\": 935, 'paws': 936, 'devour': 937, 'brood': 938, 'keen': 939, 'teeth': 940, \"tiger's\": 941, 'jaws': 942, 'burn': 943, \"liv'd\": 944, 'phoenix': 945, 'sorry': 946, 'seasons': 947, 'fleets': 948, \"whate'er\": 949, 'footed': 950, 'fading': 951, 'forbid': 952, 'heinous': 953, 'crime': 954, 'carve': 955, 'untainted': 956, 'allow': 957, 'pattern': 958, 'succeeding': 959, 'worst': 960, 'ever': 961, 'young': 962, 'xx': 963, 'master': 964, 'mistress': 965, 'passion': 966, 'acquainted': 967, 'shifting': 968, 'fashion': 969, 'rolling': 970, 'object': 971, 'whereupon': 972, 'gazeth': 973, 'hue': 974, \"'hues'\": 975, 'controlling': 976, 'steals': 977, 'souls': 978, 'amazeth': 979, 'wert': 980, 'created': 981, 'fell': 982, 'doting': 983, 'addition': 984, 'defeated': 985, 'adding': 986, \"prick'd\": 987, 'xxi': 988, \"stirr'd\": 989, 'itself': 990, 'couplement': 991, \"sea's\": 992, 'gems': 993, \"april's\": 994, 'born': 995, 'rare': 996, 'rondure': 997, 'hems': 998, 'truly': 999, 'candles': 1000, \"fix'd\": 1001, 'hearsay': 1002, 'sell': 1003, 'xxii': 1004, 'persuade': 1005, 'furrows': 1006, 'expiate': 1007, 'seemly': 1008, 'raiment': 1009, 'elder': 1010, 'wary': 1011, 'bearing': 1012, 'chary': 1013, 'nurse': 1014, 'babe': 1015, 'faring': 1016, 'presume': 1017, 'slain': 1018, \"gav'st\": 1019, 'xxiii': 1020, 'unperfect': 1021, 'actor': 1022, 'put': 1023, 'beside': 1024, 'replete': 1025, \"strength's\": 1026, 'weakens': 1027, 'trust': 1028, 'forget': 1029, 'perfect': 1030, 'ceremony': 1031, 'rite': 1032, 'strength': 1033, \"o'ercharg'd\": 1034, 'burthen': 1035, 'eloquence': 1036, 'presagers': 1037, 'speaking': 1038, 'plead': 1039, 'recompense': 1040, \"express'd\": 1041, 'learn': 1042, 'writ': 1043, 'belongs': 1044, 'fine': 1045, 'xxiv': 1046, \"play'd\": 1047, \"stell'd\": 1048, 'table': 1049, 'body': 1050, 'wherein': 1051, 'perspective': 1052, \"painter's\": 1053, \"pictur'd\": 1054, \"bosom's\": 1055, 'shop': 1056, 'hanging': 1057, 'glazed': 1058, 'turns': 1059, 'peep': 1060, 'therein': 1061, 'cunning': 1062, 'xxv': 1063, 'favour': 1064, 'titles': 1065, 'triumph': 1066, 'bars': 1067, \"princes'\": 1068, 'favourites': 1069, 'spread': 1070, 'marigold': 1071, \"sun's\": 1072, 'pride': 1073, 'frown': 1074, 'painful': 1075, 'warrior': 1076, 'famoused': 1077, 'fight': 1078, 'thousand': 1079, 'victories': 1080, \"foil'd\": 1081, 'book': 1082, 'razed': 1083, 'forgot': 1084, \"toil'd\": 1085, 'remove': 1086, 'xxvi': 1087, 'lord': 1088, 'vassalage': 1089, 'merit': 1090, 'strongly': 1091, 'knit': 1092, 'written': 1093, 'embassage': 1094, 'witness': 1095, 'bare': 1096, 'wanting': 1097, 'words': 1098, 'naked': 1099, 'bestow': 1100, 'whatsoever': 1101, 'star': 1102, 'guides': 1103, 'moving': 1104, 'points': 1105, 'graciously': 1106, 'aspect': 1107, 'puts': 1108, 'apparel': 1109, 'dare': 1110, 'xxvii': 1111, 'haste': 1112, 'bed': 1113, 'respose': 1114, \"tir'd\": 1115, 'begins': 1116, 'journey': 1117, \"body's\": 1118, \"work's\": 1119, 'expired': 1120, 'intend': 1121, 'zealous': 1122, 'drooping': 1123, 'eyelids': 1124, 'open': 1125, 'darkness': 1126, 'blind': 1127, 'imaginary': 1128, 'presents': 1129, 'jewel': 1130, 'ghastly': 1131, 'makes': 1132, 'black': 1133, 'quiet': 1134, 'xxviii': 1135, 'return': 1136, 'plight': 1137, \"debarre'd\": 1138, 'benefit': 1139, \"day's\": 1140, 'oppression': 1141, \"eas'd\": 1142, 'enemies': 1143, 'reign': 1144, 'consent': 1145, 'hands': 1146, 'torture': 1147, 'complain': 1148, 'farther': 1149, 'off': 1150, 'blot': 1151, 'swart': 1152, \"complexion'd\": 1153, 'sparkling': 1154, 'twire': 1155, \"gild'st\": 1156, 'daily': 1157, 'nightly': 1158, \"grief's\": 1159, 'length': 1160, 'stronger': 1161, 'xxix': 1162, 'beweep': 1163, 'outcast': 1164, 'trouble': 1165, 'deaf': 1166, 'bootless': 1167, 'cries': 1168, 'curse': 1169, 'fate': 1170, 'wishing': 1171, \"featur'd\": 1172, 'desiring': 1173, 'scope': 1174, 'enjoy': 1175, 'almost': 1176, 'despising': 1177, 'haply': 1178, 'lark': 1179, 'arising': 1180, 'sullen': 1181, 'hymns': 1182, 'gate': 1183, 'brings': 1184, 'scorn': 1185, 'kings': 1186, 'xxx': 1187, 'sessions': 1188, 'summon': 1189, 'sigh': 1190, 'lack': 1191, 'sought': 1192, 'woes': 1193, 'drown': 1194, 'flow': 1195, 'precious': 1196, 'hid': 1197, 'dateless': 1198, 'afresh': 1199, \"cancell'd\": 1200, 'expense': 1201, \"vanish'd\": 1202, 'grieve': 1203, 'grievances': 1204, 'foregone': 1205, 'heavily': 1206, 'account': 1207, 'fore': 1208, 'bemoaned': 1209, 'paid': 1210, 'losses': 1211, \"restor'd\": 1212, 'xxxi': 1213, 'endeared': 1214, 'hearts': 1215, 'lacking': 1216, 'supposed': 1217, 'reigns': 1218, 'holy': 1219, 'obsequious': 1220, 'tear': 1221, 'religious': 1222, \"stol'n\": 1223, 'interest': 1224, 'appear': 1225, 'hidden': 1226, 'lie': 1227, 'trophies': 1228, 'lovers': 1229, 'images': 1230, \"lov'd\": 1231, 'xxxii': 1232, 'survive': 1233, 'bones': 1234, 'dust': 1235, 're': 1236, 'survey': 1237, 'deceased': 1238, 'lover': 1239, \"bett'ring\": 1240, \"outstripp'd\": 1241, 'reserve': 1242, 'exceeded': 1243, 'vouchsafe': 1244, \"'had\": 1245, \"friend's\": 1246, 'grown': 1247, 'growing': 1248, 'dearer': 1249, 'march': 1250, 'ranks': 1251, 'equipage': 1252, 'died': 1253, 'poets': 1254, 'style': 1255, \"i'll\": 1256, \"love'\": 1257, 'xxxiii': 1258, 'glorious': 1259, 'morning': 1260, 'seen': 1261, 'mountain': 1262, 'tops': 1263, 'sovereign': 1264, 'kissing': 1265, 'meadows': 1266, 'pale': 1267, 'streams': 1268, 'alchemy': 1269, 'anon': 1270, 'permit': 1271, 'basest': 1272, 'ride': 1273, 'ugly': 1274, 'rack': 1275, 'celestial': 1276, 'forlorn': 1277, 'visage': 1278, 'hide': 1279, 'stealing': 1280, 'unseen': 1281, 'west': 1282, 'early': 1283, 'morn': 1284, 'shine': 1285, 'triumphant': 1286, 'splendour': 1287, 'alack': 1288, 'hour': 1289, 'region': 1290, \"mask'd\": 1291, 'whit': 1292, 'disdaineth': 1293, 'suns': 1294, 'staineth': 1295, 'xxxiv': 1296, 'didst': 1297, 'promise': 1298, 'cloak': 1299, 'base': 1300, \"o'ertake\": 1301, 'hiding': 1302, 'bravery': 1303, 'rotten': 1304, 'smoke': 1305, 'enough': 1306, 'dry': 1307, 'storm': 1308, 'beaten': 1309, 'salve': 1310, 'speak': 1311, 'heals': 1312, 'wound': 1313, 'cures': 1314, 'physic': 1315, 'repent': 1316, \"offender's\": 1317, 'sorrow': 1318, 'weak': 1319, 'relief': 1320, 'bears': 1321, \"offence's\": 1322, 'pearl': 1323, 'sheds': 1324, 'ransom': 1325, 'xxxv': 1326, \"griev'd\": 1327, 'roses': 1328, 'thorns': 1329, 'silver': 1330, 'fountains': 1331, 'mud': 1332, 'eclipses': 1333, 'loathsome': 1334, 'canker': 1335, 'sweetest': 1336, 'faults': 1337, 'authorizing': 1338, 'trespass': 1339, 'corrupting': 1340, 'salving': 1341, 'amiss': 1342, 'excusing': 1343, 'sensual': 1344, 'fault': 1345, 'sense': 1346, 'adverse': 1347, 'party': 1348, 'advocate': 1349, 'lawful': 1350, 'plea': 1351, 'commence': 1352, 'civil': 1353, 'accessary': 1354, 'needs': 1355, 'robs': 1356, 'xxxvi': 1357, 'confess': 1358, 'undivided': 1359, 'blots': 1360, 'help': 1361, 'separable': 1362, 'alter': 1363, 'sole': 1364, 'evermore': 1365, 'acknowledge': 1366, 'lest': 1367, 'bewailed': 1368, 'guilt': 1369, 'kindness': 1370, 'sort': 1371, 'report': 1372, 'xxxvii': 1373, 'decrepit': 1374, 'active': 1375, \"fortune's\": 1376, 'dearest': 1377, 'comfort': 1378, 'whether': 1379, 'entitled': 1380, 'crowned': 1381, 'sit': 1382, 'engrafted': 1383, \"despis'd\": 1384, \"suffic'd\": 1385, 'xxxviii': 1386, 'subject': 1387, 'invent': 1388, \"pour'st\": 1389, 'into': 1390, 'argument': 1391, 'excellent': 1392, 'vulgar': 1393, 'paper': 1394, 'thanks': 1395, 'aught': 1396, 'perusal': 1397, \"who's\": 1398, 'invention': 1399, 'tenth': 1400, 'nine': 1401, 'rhymers': 1402, 'invocate': 1403, 'outlive': 1404, 'curious': 1405, 'pain': 1406, 'xxxix': 1407, 'manners': 1408, \"is't\": 1409, 'us': 1410, 'divided': 1411, 'separation': 1412, \"deserv'st\": 1413, 'absence': 1414, 'torment': 1415, 'sour': 1416, 'entertain': 1417, 'teachest': 1418, 'praising': 1419, 'xl': 1420, 'yea': 1421, 'receivest': 1422, 'blame': 1423, 'usest': 1424, \"blam'd\": 1425, 'deceivest': 1426, 'wilful': 1427, 'taste': 1428, 'refusest': 1429, 'forgive': 1430, 'robbery': 1431, 'poverty': 1432, 'greater': 1433, \"hate's\": 1434, 'known': 1435, 'injury': 1436, 'lascivious': 1437, 'kill': 1438, 'spites': 1439, 'foes': 1440, 'xli': 1441, 'pretty': 1442, 'wrongs': 1443, 'liberty': 1444, 'years': 1445, 'befits': 1446, 'temptation': 1447, 'follows': 1448, 'won': 1449, \"assail'd\": 1450, 'woos': 1451, \"prevail'd\": 1452, 'ay': 1453, 'mightst': 1454, 'seat': 1455, 'forbear': 1456, 'straying': 1457, 'lead': 1458, 'riot': 1459, 'forced': 1460, 'twofold': 1461, 'hers': 1462, 'tempting': 1463, 'xlii': 1464, 'said': 1465, 'loved': 1466, 'dearly': 1467, 'wailing': 1468, 'nearly': 1469, 'offenders': 1470, 'ye': 1471, 'because': 1472, \"know'st\": 1473, 'suffering': 1474, 'approve': 1475, 'gain': 1476, 'losing': 1477, 'found': 1478, 'lay': 1479, \"here's\": 1480, 'flattery': 1481, 'xliii': 1482, 'wink': 1483, 'unrespected': 1484, 'darkly': 1485, 'dark': 1486, 'directed': 1487, 'shadows': 1488, \"shadow's\": 1489, 'clear': 1490, 'clearer': 1491, 'unseeing': 1492, 'imperfect': 1493, 'xliv': 1494, 'dull': 1495, 'flesh': 1496, 'injurious': 1497, 'distance': 1498, 'space': 1499, 'limits': 1500, 'remote': 1501, 'matter': 1502, 'foot': 1503, 'farthest': 1504, 'nimble': 1505, 'jump': 1506, 'sea': 1507, 'land': 1508, 'soon': 1509, 'kills': 1510, 'leap': 1511, 'large': 1512, 'lengths': 1513, 'miles': 1514, 'water': 1515, 'attend': 1516, 'receiving': 1517, 'slow': 1518, 'badges': 1519, 'xlv': 1520, 'purging': 1521, 'fire': 1522, 'wherever': 1523, 'present': 1524, 'motion': 1525, 'slide': 1526, 'quicker': 1527, 'embassy': 1528, 'four': 1529, 'sinks': 1530, 'down': 1531, 'melancholy': 1532, 'until': 1533, \"life's\": 1534, 'composition': 1535, \"recur'd\": 1536, 'messengers': 1537, \"return'd\": 1538, \"assur'd\": 1539, 'health': 1540, 'recounting': 1541, 'told': 1542, 'straight': 1543}\n",
            "1544\n"
          ]
        }
      ]
    },
    {
      "cell_type": "markdown",
      "source": [
        "Step 3: Create n-gram sequene"
      ],
      "metadata": {
        "id": "a74trDeqWjRd"
      }
    },
    {
      "cell_type": "code",
      "source": [
        "input_sequences = []\n",
        "\n",
        "for line in corpus:\n",
        "  tokens = tokenizer.texts_to_sequences([line])[0]\n",
        "  for i in range(1,len(tokens)):\n",
        "    n_gram_sequence = tokens[:i+1]\n",
        "    input_sequences.append(n_gram_sequence)                          "
      ],
      "metadata": {
        "id": "_4WSV11jWluv"
      },
      "execution_count": 6,
      "outputs": []
    },
    {
      "cell_type": "code",
      "source": [
        "# Pad sequences\n",
        "\n",
        "max_seq_len = max([len(i) for i in input_sequences])\n",
        "input_seq_array = np.array(pad_sequences(input_sequences,maxlen = max_seq_len, padding=\"pre\"))"
      ],
      "metadata": {
        "id": "02qApCTfXfOR"
      },
      "execution_count": 7,
      "outputs": []
    },
    {
      "cell_type": "markdown",
      "source": [
        "Step 4: Extract features and labels"
      ],
      "metadata": {
        "id": "b1zXLqtaYbZi"
      }
    },
    {
      "cell_type": "code",
      "source": [
        "# Crete features(X) and labels(Y)\n",
        "\n",
        "X = input_seq_array[:,:-1]\n",
        "labels = input_seq_array[:,-1]\n",
        "\n",
        "#one-hot encode the labels to get y\n",
        "y= tf.keras.utils.to_categorical(labels,num_classes = vocab_size) "
      ],
      "metadata": {
        "id": "TJvn9biQYfks"
      },
      "execution_count": 8,
      "outputs": []
    },
    {
      "cell_type": "markdown",
      "source": [
        "Define the LSTM model"
      ],
      "metadata": {
        "id": "pTpcZWvxacjX"
      }
    },
    {
      "cell_type": "code",
      "source": [
        "model = tf.keras.Sequential([\n",
        "                             tf.keras.layers.Embedding(vocab_size,120,input_length = max_seq_len-1),\n",
        "                             tf.keras.layers.Bidirectional(tf.keras.layers.LSTM(120)),\n",
        "                             tf.keras.layers.Dense(vocab_size,activation ='softmax') # vocab_size - # of classes to predict, activation - Softmax - Multi class problem\n",
        "                             \n",
        "])\n",
        "\n",
        "# define the learning rate - step size for optimizer\n",
        "adam = tf.keras.optimizers.Adam(learning_rate=0.01)\n",
        "\n",
        "model.compile(loss = 'categorical_crossentropy',optimizer = 'adam', metrics=['accuracy'])"
      ],
      "metadata": {
        "id": "ZAsErKLLaez0"
      },
      "execution_count": 13,
      "outputs": []
    },
    {
      "cell_type": "code",
      "source": [
        "history = model.fit(X,y,epochs = 200,verbose=1)"
      ],
      "metadata": {
        "colab": {
          "base_uri": "https://localhost:8080/"
        },
        "id": "tHxbwGtgcYQY",
        "outputId": "b0b335b6-b2e5-4efe-bb61-c7acef0f7269"
      },
      "execution_count": 14,
      "outputs": [
        {
          "output_type": "stream",
          "name": "stdout",
          "text": [
            "Epoch 1/200\n",
            "142/142 [==============================] - 10s 38ms/step - loss: 6.7853 - accuracy: 0.0183\n",
            "Epoch 2/200\n",
            "142/142 [==============================] - 5s 37ms/step - loss: 6.3238 - accuracy: 0.0250\n",
            "Epoch 3/200\n",
            "142/142 [==============================] - 5s 37ms/step - loss: 6.1803 - accuracy: 0.0254\n",
            "Epoch 4/200\n",
            "142/142 [==============================] - 5s 39ms/step - loss: 6.0271 - accuracy: 0.0287\n",
            "Epoch 5/200\n",
            "142/142 [==============================] - 5s 38ms/step - loss: 5.8420 - accuracy: 0.0360\n",
            "Epoch 6/200\n",
            "142/142 [==============================] - 6s 42ms/step - loss: 5.6212 - accuracy: 0.0471\n",
            "Epoch 7/200\n",
            "142/142 [==============================] - 6s 41ms/step - loss: 5.3730 - accuracy: 0.0566\n",
            "Epoch 8/200\n",
            "142/142 [==============================] - 5s 38ms/step - loss: 5.0921 - accuracy: 0.0634\n",
            "Epoch 9/200\n",
            "142/142 [==============================] - 6s 39ms/step - loss: 4.8063 - accuracy: 0.0842\n",
            "Epoch 10/200\n",
            "142/142 [==============================] - 5s 39ms/step - loss: 4.5264 - accuracy: 0.1027\n",
            "Epoch 11/200\n",
            "142/142 [==============================] - 5s 38ms/step - loss: 4.2471 - accuracy: 0.1264\n",
            "Epoch 12/200\n",
            "142/142 [==============================] - 5s 37ms/step - loss: 3.9767 - accuracy: 0.1589\n",
            "Epoch 13/200\n",
            "142/142 [==============================] - 6s 42ms/step - loss: 3.6995 - accuracy: 0.2024\n",
            "Epoch 14/200\n",
            "142/142 [==============================] - 5s 38ms/step - loss: 3.4404 - accuracy: 0.2461\n",
            "Epoch 15/200\n",
            "142/142 [==============================] - 6s 41ms/step - loss: 3.1833 - accuracy: 0.3053\n",
            "Epoch 16/200\n",
            "142/142 [==============================] - 6s 44ms/step - loss: 2.9387 - accuracy: 0.3606\n",
            "Epoch 17/200\n",
            "142/142 [==============================] - 6s 42ms/step - loss: 2.7142 - accuracy: 0.4169\n",
            "Epoch 18/200\n",
            "142/142 [==============================] - 6s 41ms/step - loss: 2.5147 - accuracy: 0.4640\n",
            "Epoch 19/200\n",
            "142/142 [==============================] - 6s 39ms/step - loss: 2.3201 - accuracy: 0.5122\n",
            "Epoch 20/200\n",
            "142/142 [==============================] - 6s 40ms/step - loss: 2.1254 - accuracy: 0.5586\n",
            "Epoch 21/200\n",
            "142/142 [==============================] - 6s 39ms/step - loss: 1.9629 - accuracy: 0.5994\n",
            "Epoch 22/200\n",
            "142/142 [==============================] - 6s 40ms/step - loss: 1.8123 - accuracy: 0.6191\n",
            "Epoch 23/200\n",
            "142/142 [==============================] - 6s 43ms/step - loss: 1.6642 - accuracy: 0.6613\n",
            "Epoch 24/200\n",
            "142/142 [==============================] - 6s 41ms/step - loss: 1.5593 - accuracy: 0.6863\n",
            "Epoch 25/200\n",
            "142/142 [==============================] - 5s 39ms/step - loss: 1.4280 - accuracy: 0.7176\n",
            "Epoch 26/200\n",
            "142/142 [==============================] - 5s 38ms/step - loss: 1.3185 - accuracy: 0.7360\n",
            "Epoch 27/200\n",
            "142/142 [==============================] - 5s 38ms/step - loss: 1.2286 - accuracy: 0.7576\n",
            "Epoch 28/200\n",
            "142/142 [==============================] - 5s 37ms/step - loss: 1.1440 - accuracy: 0.7777\n",
            "Epoch 29/200\n",
            "142/142 [==============================] - 5s 36ms/step - loss: 1.0603 - accuracy: 0.7985\n",
            "Epoch 30/200\n",
            "142/142 [==============================] - 5s 37ms/step - loss: 0.9865 - accuracy: 0.8120\n",
            "Epoch 31/200\n",
            "142/142 [==============================] - 5s 38ms/step - loss: 0.9254 - accuracy: 0.8255\n",
            "Epoch 32/200\n",
            "142/142 [==============================] - 6s 41ms/step - loss: 0.8630 - accuracy: 0.8316\n",
            "Epoch 33/200\n",
            "142/142 [==============================] - 6s 43ms/step - loss: 0.8121 - accuracy: 0.8405\n",
            "Epoch 34/200\n",
            "142/142 [==============================] - 6s 39ms/step - loss: 0.7573 - accuracy: 0.8462\n",
            "Epoch 35/200\n",
            "142/142 [==============================] - 5s 38ms/step - loss: 0.7201 - accuracy: 0.8566\n",
            "Epoch 36/200\n",
            "142/142 [==============================] - 5s 39ms/step - loss: 0.6750 - accuracy: 0.8610\n",
            "Epoch 37/200\n",
            "142/142 [==============================] - 5s 37ms/step - loss: 0.6539 - accuracy: 0.8630\n",
            "Epoch 38/200\n",
            "142/142 [==============================] - 5s 38ms/step - loss: 0.6202 - accuracy: 0.8699\n",
            "Epoch 39/200\n",
            "142/142 [==============================] - 5s 37ms/step - loss: 0.5902 - accuracy: 0.8681\n",
            "Epoch 40/200\n",
            "142/142 [==============================] - 5s 37ms/step - loss: 0.5670 - accuracy: 0.8727\n",
            "Epoch 41/200\n",
            "142/142 [==============================] - 5s 37ms/step - loss: 0.5502 - accuracy: 0.8754\n",
            "Epoch 42/200\n",
            "142/142 [==============================] - 6s 39ms/step - loss: 0.5290 - accuracy: 0.8730\n",
            "Epoch 43/200\n",
            "142/142 [==============================] - 5s 38ms/step - loss: 0.5175 - accuracy: 0.8769\n",
            "Epoch 44/200\n",
            "142/142 [==============================] - 5s 38ms/step - loss: 0.5032 - accuracy: 0.8772\n",
            "Epoch 45/200\n",
            "142/142 [==============================] - 5s 37ms/step - loss: 0.4908 - accuracy: 0.8794\n",
            "Epoch 46/200\n",
            "142/142 [==============================] - 5s 37ms/step - loss: 0.4776 - accuracy: 0.8778\n",
            "Epoch 47/200\n",
            "142/142 [==============================] - 5s 37ms/step - loss: 0.4719 - accuracy: 0.8778\n",
            "Epoch 48/200\n",
            "142/142 [==============================] - 5s 37ms/step - loss: 0.4651 - accuracy: 0.8776\n",
            "Epoch 49/200\n",
            "142/142 [==============================] - 6s 39ms/step - loss: 0.4582 - accuracy: 0.8772\n",
            "Epoch 50/200\n",
            "142/142 [==============================] - 6s 39ms/step - loss: 0.4404 - accuracy: 0.8800\n",
            "Epoch 51/200\n",
            "142/142 [==============================] - 5s 38ms/step - loss: 0.4337 - accuracy: 0.8794\n",
            "Epoch 52/200\n",
            "142/142 [==============================] - 5s 37ms/step - loss: 0.4282 - accuracy: 0.8794\n",
            "Epoch 53/200\n",
            "142/142 [==============================] - 5s 37ms/step - loss: 0.4248 - accuracy: 0.8783\n",
            "Epoch 54/200\n",
            "142/142 [==============================] - 5s 37ms/step - loss: 0.4252 - accuracy: 0.8778\n",
            "Epoch 55/200\n",
            "142/142 [==============================] - 5s 37ms/step - loss: 0.4182 - accuracy: 0.8778\n",
            "Epoch 56/200\n",
            "142/142 [==============================] - 5s 38ms/step - loss: 0.4229 - accuracy: 0.8758\n",
            "Epoch 57/200\n",
            "142/142 [==============================] - 5s 37ms/step - loss: 0.4192 - accuracy: 0.8765\n",
            "Epoch 58/200\n",
            "142/142 [==============================] - 5s 37ms/step - loss: 0.4155 - accuracy: 0.8763\n",
            "Epoch 59/200\n",
            "142/142 [==============================] - 5s 38ms/step - loss: 0.4240 - accuracy: 0.8725\n",
            "Epoch 60/200\n",
            "142/142 [==============================] - 5s 37ms/step - loss: 0.4077 - accuracy: 0.8754\n",
            "Epoch 61/200\n",
            "142/142 [==============================] - 5s 37ms/step - loss: 0.4079 - accuracy: 0.8760\n",
            "Epoch 62/200\n",
            "142/142 [==============================] - 6s 39ms/step - loss: 0.3992 - accuracy: 0.8787\n",
            "Epoch 63/200\n",
            "142/142 [==============================] - 5s 37ms/step - loss: 0.3953 - accuracy: 0.8807\n",
            "Epoch 64/200\n",
            "142/142 [==============================] - 5s 37ms/step - loss: 0.3926 - accuracy: 0.8756\n",
            "Epoch 65/200\n",
            "142/142 [==============================] - 5s 37ms/step - loss: 0.3918 - accuracy: 0.8758\n",
            "Epoch 66/200\n",
            "142/142 [==============================] - 5s 36ms/step - loss: 0.3860 - accuracy: 0.8800\n",
            "Epoch 67/200\n",
            "142/142 [==============================] - 5s 37ms/step - loss: 0.3799 - accuracy: 0.8772\n",
            "Epoch 68/200\n",
            "142/142 [==============================] - 5s 37ms/step - loss: 0.3793 - accuracy: 0.8783\n",
            "Epoch 69/200\n",
            "142/142 [==============================] - 5s 38ms/step - loss: 0.3811 - accuracy: 0.8789\n",
            "Epoch 70/200\n",
            "142/142 [==============================] - 5s 37ms/step - loss: 0.3792 - accuracy: 0.8754\n",
            "Epoch 71/200\n",
            "142/142 [==============================] - 5s 37ms/step - loss: 0.3748 - accuracy: 0.8765\n",
            "Epoch 72/200\n",
            "142/142 [==============================] - 5s 36ms/step - loss: 0.3742 - accuracy: 0.8765\n",
            "Epoch 73/200\n",
            "142/142 [==============================] - 5s 37ms/step - loss: 0.3741 - accuracy: 0.8763\n",
            "Epoch 74/200\n",
            "142/142 [==============================] - 5s 38ms/step - loss: 0.3737 - accuracy: 0.8791\n",
            "Epoch 75/200\n",
            "142/142 [==============================] - 5s 38ms/step - loss: 0.3859 - accuracy: 0.8741\n",
            "Epoch 76/200\n",
            "142/142 [==============================] - 5s 37ms/step - loss: 0.3870 - accuracy: 0.8769\n",
            "Epoch 77/200\n",
            "142/142 [==============================] - 5s 36ms/step - loss: 0.4105 - accuracy: 0.8703\n",
            "Epoch 78/200\n",
            "142/142 [==============================] - 5s 37ms/step - loss: 0.4099 - accuracy: 0.8692\n",
            "Epoch 79/200\n",
            "142/142 [==============================] - 5s 37ms/step - loss: 0.3781 - accuracy: 0.8780\n",
            "Epoch 80/200\n",
            "142/142 [==============================] - 5s 38ms/step - loss: 0.3664 - accuracy: 0.8787\n",
            "Epoch 81/200\n",
            "142/142 [==============================] - 6s 41ms/step - loss: 0.3670 - accuracy: 0.8778\n",
            "Epoch 82/200\n",
            "142/142 [==============================] - 6s 39ms/step - loss: 0.3639 - accuracy: 0.8785\n",
            "Epoch 83/200\n",
            "142/142 [==============================] - 6s 40ms/step - loss: 0.3648 - accuracy: 0.8767\n",
            "Epoch 84/200\n",
            "142/142 [==============================] - 6s 40ms/step - loss: 0.3640 - accuracy: 0.8794\n",
            "Epoch 85/200\n",
            "142/142 [==============================] - 6s 39ms/step - loss: 0.3625 - accuracy: 0.8756\n",
            "Epoch 86/200\n",
            "142/142 [==============================] - 5s 38ms/step - loss: 0.3598 - accuracy: 0.8760\n",
            "Epoch 87/200\n",
            "142/142 [==============================] - 5s 38ms/step - loss: 0.3622 - accuracy: 0.8785\n",
            "Epoch 88/200\n",
            "142/142 [==============================] - 5s 37ms/step - loss: 0.3640 - accuracy: 0.8754\n",
            "Epoch 89/200\n",
            "142/142 [==============================] - 5s 37ms/step - loss: 0.3618 - accuracy: 0.8756\n",
            "Epoch 90/200\n",
            "142/142 [==============================] - 5s 38ms/step - loss: 0.3574 - accuracy: 0.8774\n",
            "Epoch 91/200\n",
            "142/142 [==============================] - 5s 38ms/step - loss: 0.3566 - accuracy: 0.8798\n",
            "Epoch 92/200\n",
            "142/142 [==============================] - 5s 38ms/step - loss: 0.3563 - accuracy: 0.8776\n",
            "Epoch 93/200\n",
            "142/142 [==============================] - 6s 40ms/step - loss: 0.3547 - accuracy: 0.8800\n",
            "Epoch 94/200\n",
            "142/142 [==============================] - 6s 42ms/step - loss: 0.3613 - accuracy: 0.8787\n",
            "Epoch 95/200\n",
            "142/142 [==============================] - 6s 42ms/step - loss: 0.3580 - accuracy: 0.8772\n",
            "Epoch 96/200\n",
            "142/142 [==============================] - 5s 37ms/step - loss: 0.3584 - accuracy: 0.8776\n",
            "Epoch 97/200\n",
            "142/142 [==============================] - 5s 37ms/step - loss: 0.3566 - accuracy: 0.8767\n",
            "Epoch 98/200\n",
            "142/142 [==============================] - 5s 36ms/step - loss: 0.3576 - accuracy: 0.8794\n",
            "Epoch 99/200\n",
            "142/142 [==============================] - 5s 39ms/step - loss: 0.3637 - accuracy: 0.8780\n",
            "Epoch 100/200\n",
            "142/142 [==============================] - 5s 36ms/step - loss: 0.3796 - accuracy: 0.8719\n",
            "Epoch 101/200\n",
            "142/142 [==============================] - 5s 35ms/step - loss: 0.3837 - accuracy: 0.8716\n",
            "Epoch 102/200\n",
            "142/142 [==============================] - 5s 35ms/step - loss: 0.3808 - accuracy: 0.8719\n",
            "Epoch 103/200\n",
            "142/142 [==============================] - 5s 33ms/step - loss: 0.3634 - accuracy: 0.8778\n",
            "Epoch 104/200\n",
            "142/142 [==============================] - 5s 33ms/step - loss: 0.3565 - accuracy: 0.8780\n",
            "Epoch 105/200\n",
            "142/142 [==============================] - 5s 34ms/step - loss: 0.3536 - accuracy: 0.8796\n",
            "Epoch 106/200\n",
            "142/142 [==============================] - 5s 33ms/step - loss: 0.3516 - accuracy: 0.8763\n",
            "Epoch 107/200\n",
            "142/142 [==============================] - 5s 33ms/step - loss: 0.3481 - accuracy: 0.8798\n",
            "Epoch 108/200\n",
            "142/142 [==============================] - 5s 33ms/step - loss: 0.3497 - accuracy: 0.8787\n",
            "Epoch 109/200\n",
            "142/142 [==============================] - 5s 32ms/step - loss: 0.3494 - accuracy: 0.8787\n",
            "Epoch 110/200\n",
            "142/142 [==============================] - 5s 32ms/step - loss: 0.3470 - accuracy: 0.8772\n",
            "Epoch 111/200\n",
            "142/142 [==============================] - 5s 32ms/step - loss: 0.3494 - accuracy: 0.8814\n",
            "Epoch 112/200\n",
            "142/142 [==============================] - 5s 34ms/step - loss: 0.3513 - accuracy: 0.8756\n",
            "Epoch 113/200\n",
            "142/142 [==============================] - 5s 34ms/step - loss: 0.3505 - accuracy: 0.8796\n",
            "Epoch 114/200\n",
            "142/142 [==============================] - 5s 34ms/step - loss: 0.3482 - accuracy: 0.8780\n",
            "Epoch 115/200\n",
            "142/142 [==============================] - 5s 34ms/step - loss: 0.3474 - accuracy: 0.8787\n",
            "Epoch 116/200\n",
            "142/142 [==============================] - 5s 34ms/step - loss: 0.3467 - accuracy: 0.8780\n",
            "Epoch 117/200\n",
            "142/142 [==============================] - 5s 35ms/step - loss: 0.3474 - accuracy: 0.8765\n",
            "Epoch 118/200\n",
            "142/142 [==============================] - 5s 33ms/step - loss: 0.3466 - accuracy: 0.8769\n",
            "Epoch 119/200\n",
            "142/142 [==============================] - 5s 34ms/step - loss: 0.3465 - accuracy: 0.8798\n",
            "Epoch 120/200\n",
            "142/142 [==============================] - 5s 33ms/step - loss: 0.3446 - accuracy: 0.8791\n",
            "Epoch 121/200\n",
            "142/142 [==============================] - 5s 35ms/step - loss: 0.3423 - accuracy: 0.8796\n",
            "Epoch 122/200\n",
            "142/142 [==============================] - 5s 34ms/step - loss: 0.3451 - accuracy: 0.8796\n",
            "Epoch 123/200\n",
            "142/142 [==============================] - 5s 34ms/step - loss: 0.3456 - accuracy: 0.8800\n",
            "Epoch 124/200\n",
            "142/142 [==============================] - 5s 34ms/step - loss: 0.3580 - accuracy: 0.8756\n",
            "Epoch 125/200\n",
            "142/142 [==============================] - 5s 34ms/step - loss: 0.3908 - accuracy: 0.8663\n",
            "Epoch 126/200\n",
            "142/142 [==============================] - 5s 34ms/step - loss: 0.3891 - accuracy: 0.8723\n",
            "Epoch 127/200\n",
            "142/142 [==============================] - 5s 33ms/step - loss: 0.3553 - accuracy: 0.8758\n",
            "Epoch 128/200\n",
            "142/142 [==============================] - 5s 34ms/step - loss: 0.3497 - accuracy: 0.8760\n",
            "Epoch 129/200\n",
            "142/142 [==============================] - 5s 34ms/step - loss: 0.3461 - accuracy: 0.8791\n",
            "Epoch 130/200\n",
            "142/142 [==============================] - 5s 34ms/step - loss: 0.3458 - accuracy: 0.8760\n",
            "Epoch 131/200\n",
            "142/142 [==============================] - 5s 33ms/step - loss: 0.3423 - accuracy: 0.8787\n",
            "Epoch 132/200\n",
            "142/142 [==============================] - 5s 34ms/step - loss: 0.3426 - accuracy: 0.8780\n",
            "Epoch 133/200\n",
            "142/142 [==============================] - 5s 32ms/step - loss: 0.3411 - accuracy: 0.8774\n",
            "Epoch 134/200\n",
            "142/142 [==============================] - 5s 32ms/step - loss: 0.3413 - accuracy: 0.8774\n",
            "Epoch 135/200\n",
            "142/142 [==============================] - 5s 32ms/step - loss: 0.3405 - accuracy: 0.8787\n",
            "Epoch 136/200\n",
            "142/142 [==============================] - 5s 33ms/step - loss: 0.3419 - accuracy: 0.8794\n",
            "Epoch 137/200\n",
            "142/142 [==============================] - 5s 32ms/step - loss: 0.3407 - accuracy: 0.8814\n",
            "Epoch 138/200\n",
            "142/142 [==============================] - 5s 32ms/step - loss: 0.3410 - accuracy: 0.8785\n",
            "Epoch 139/200\n",
            "142/142 [==============================] - 5s 32ms/step - loss: 0.3404 - accuracy: 0.8789\n",
            "Epoch 140/200\n",
            "142/142 [==============================] - 5s 32ms/step - loss: 0.3411 - accuracy: 0.8767\n",
            "Epoch 141/200\n",
            "142/142 [==============================] - 5s 32ms/step - loss: 0.3389 - accuracy: 0.8811\n",
            "Epoch 142/200\n",
            "142/142 [==============================] - 5s 32ms/step - loss: 0.3390 - accuracy: 0.8807\n",
            "Epoch 143/200\n",
            "142/142 [==============================] - 5s 32ms/step - loss: 0.3393 - accuracy: 0.8789\n",
            "Epoch 144/200\n",
            "142/142 [==============================] - 5s 32ms/step - loss: 0.3396 - accuracy: 0.8780\n",
            "Epoch 145/200\n",
            "142/142 [==============================] - 5s 32ms/step - loss: 0.3428 - accuracy: 0.8772\n",
            "Epoch 146/200\n",
            "142/142 [==============================] - 4s 32ms/step - loss: 0.3416 - accuracy: 0.8785\n",
            "Epoch 147/200\n",
            "142/142 [==============================] - 5s 32ms/step - loss: 0.3388 - accuracy: 0.8789\n",
            "Epoch 148/200\n",
            "142/142 [==============================] - 5s 32ms/step - loss: 0.3387 - accuracy: 0.8783\n",
            "Epoch 149/200\n",
            "142/142 [==============================] - 5s 32ms/step - loss: 0.3381 - accuracy: 0.8805\n",
            "Epoch 150/200\n",
            "142/142 [==============================] - 5s 32ms/step - loss: 0.3384 - accuracy: 0.8789\n",
            "Epoch 151/200\n",
            "142/142 [==============================] - 4s 32ms/step - loss: 0.3381 - accuracy: 0.8780\n",
            "Epoch 152/200\n",
            "142/142 [==============================] - 5s 32ms/step - loss: 0.3400 - accuracy: 0.8772\n",
            "Epoch 153/200\n",
            "142/142 [==============================] - 5s 32ms/step - loss: 0.3390 - accuracy: 0.8780\n",
            "Epoch 154/200\n",
            "142/142 [==============================] - 5s 32ms/step - loss: 0.3386 - accuracy: 0.8794\n",
            "Epoch 155/200\n",
            "142/142 [==============================] - 5s 32ms/step - loss: 0.3459 - accuracy: 0.8767\n",
            "Epoch 156/200\n",
            "142/142 [==============================] - 4s 32ms/step - loss: 0.3464 - accuracy: 0.8794\n",
            "Epoch 157/200\n",
            "142/142 [==============================] - 5s 32ms/step - loss: 0.3427 - accuracy: 0.8791\n",
            "Epoch 158/200\n",
            "142/142 [==============================] - 4s 32ms/step - loss: 0.3419 - accuracy: 0.8776\n",
            "Epoch 159/200\n",
            "142/142 [==============================] - 5s 32ms/step - loss: 0.3355 - accuracy: 0.8798\n",
            "Epoch 160/200\n",
            "142/142 [==============================] - 4s 31ms/step - loss: 0.3362 - accuracy: 0.8783\n",
            "Epoch 161/200\n",
            "142/142 [==============================] - 4s 31ms/step - loss: 0.3346 - accuracy: 0.8794\n",
            "Epoch 162/200\n",
            "142/142 [==============================] - 4s 32ms/step - loss: 0.3356 - accuracy: 0.8776\n",
            "Epoch 163/200\n",
            "142/142 [==============================] - 4s 31ms/step - loss: 0.3338 - accuracy: 0.8800\n",
            "Epoch 164/200\n",
            "142/142 [==============================] - 4s 31ms/step - loss: 0.3337 - accuracy: 0.8800\n",
            "Epoch 165/200\n",
            "142/142 [==============================] - 4s 31ms/step - loss: 0.3344 - accuracy: 0.8776\n",
            "Epoch 166/200\n",
            "142/142 [==============================] - 4s 31ms/step - loss: 0.3345 - accuracy: 0.8794\n",
            "Epoch 167/200\n",
            "142/142 [==============================] - 4s 31ms/step - loss: 0.3343 - accuracy: 0.8765\n",
            "Epoch 168/200\n",
            "142/142 [==============================] - 5s 32ms/step - loss: 0.3338 - accuracy: 0.8800\n",
            "Epoch 169/200\n",
            "142/142 [==============================] - 5s 32ms/step - loss: 0.3332 - accuracy: 0.8749\n",
            "Epoch 170/200\n",
            "142/142 [==============================] - 5s 32ms/step - loss: 0.3327 - accuracy: 0.8787\n",
            "Epoch 171/200\n",
            "142/142 [==============================] - 5s 32ms/step - loss: 0.3325 - accuracy: 0.8791\n",
            "Epoch 172/200\n",
            "142/142 [==============================] - 5s 32ms/step - loss: 0.3353 - accuracy: 0.8763\n",
            "Epoch 173/200\n",
            "142/142 [==============================] - 5s 32ms/step - loss: 0.3322 - accuracy: 0.8783\n",
            "Epoch 174/200\n",
            "142/142 [==============================] - 5s 32ms/step - loss: 0.3445 - accuracy: 0.8752\n",
            "Epoch 175/200\n",
            "142/142 [==============================] - 5s 32ms/step - loss: 0.3848 - accuracy: 0.8663\n",
            "Epoch 176/200\n",
            "142/142 [==============================] - 5s 32ms/step - loss: 0.3543 - accuracy: 0.8780\n",
            "Epoch 177/200\n",
            "142/142 [==============================] - 5s 32ms/step - loss: 0.3383 - accuracy: 0.8798\n",
            "Epoch 178/200\n",
            "142/142 [==============================] - 4s 31ms/step - loss: 0.3335 - accuracy: 0.8789\n",
            "Epoch 179/200\n",
            "142/142 [==============================] - 4s 32ms/step - loss: 0.3313 - accuracy: 0.8805\n",
            "Epoch 180/200\n",
            "142/142 [==============================] - 5s 32ms/step - loss: 0.3307 - accuracy: 0.8791\n",
            "Epoch 181/200\n",
            "142/142 [==============================] - 5s 32ms/step - loss: 0.3306 - accuracy: 0.8794\n",
            "Epoch 182/200\n",
            "142/142 [==============================] - 5s 32ms/step - loss: 0.3297 - accuracy: 0.8807\n",
            "Epoch 183/200\n",
            "142/142 [==============================] - 5s 32ms/step - loss: 0.3293 - accuracy: 0.8794\n",
            "Epoch 184/200\n",
            "142/142 [==============================] - 4s 31ms/step - loss: 0.3286 - accuracy: 0.8805\n",
            "Epoch 185/200\n",
            "142/142 [==============================] - 4s 31ms/step - loss: 0.3301 - accuracy: 0.8805\n",
            "Epoch 186/200\n",
            "142/142 [==============================] - 4s 32ms/step - loss: 0.3300 - accuracy: 0.8789\n",
            "Epoch 187/200\n",
            "142/142 [==============================] - 4s 31ms/step - loss: 0.3316 - accuracy: 0.8798\n",
            "Epoch 188/200\n",
            "142/142 [==============================] - 4s 32ms/step - loss: 0.3296 - accuracy: 0.8825\n",
            "Epoch 189/200\n",
            "142/142 [==============================] - 4s 32ms/step - loss: 0.3302 - accuracy: 0.8811\n",
            "Epoch 190/200\n",
            "142/142 [==============================] - 5s 32ms/step - loss: 0.3300 - accuracy: 0.8783\n",
            "Epoch 191/200\n",
            "142/142 [==============================] - 5s 32ms/step - loss: 0.3297 - accuracy: 0.8787\n",
            "Epoch 192/200\n",
            "142/142 [==============================] - 5s 32ms/step - loss: 0.3275 - accuracy: 0.8774\n",
            "Epoch 193/200\n",
            "142/142 [==============================] - 5s 32ms/step - loss: 0.3295 - accuracy: 0.8800\n",
            "Epoch 194/200\n",
            "142/142 [==============================] - 5s 32ms/step - loss: 0.3313 - accuracy: 0.8774\n",
            "Epoch 195/200\n",
            "142/142 [==============================] - 5s 32ms/step - loss: 0.3299 - accuracy: 0.8798\n",
            "Epoch 196/200\n",
            "142/142 [==============================] - 4s 32ms/step - loss: 0.3290 - accuracy: 0.8787\n",
            "Epoch 197/200\n",
            "142/142 [==============================] - 5s 32ms/step - loss: 0.3286 - accuracy: 0.8807\n",
            "Epoch 198/200\n",
            "142/142 [==============================] - 4s 31ms/step - loss: 0.3281 - accuracy: 0.8807\n",
            "Epoch 199/200\n",
            "142/142 [==============================] - 5s 32ms/step - loss: 0.3284 - accuracy: 0.8787\n",
            "Epoch 200/200\n",
            "142/142 [==============================] - 5s 32ms/step - loss: 0.3287 - accuracy: 0.8807\n"
          ]
        }
      ]
    },
    {
      "cell_type": "markdown",
      "source": [
        "Visualize the metrics"
      ],
      "metadata": {
        "id": "1Ox6iBgJdSbD"
      }
    },
    {
      "cell_type": "code",
      "source": [
        "import matplotlib.pyplot as plt\n",
        "\n",
        "def plot_graphs(history, metric):\n",
        "  plt.plot(history.history[metric])\n",
        "  plt.xlabel(\"Epochs\")\n",
        "  plt.ylabel(metric)\n",
        "  plt.show()\n",
        "\n",
        "plot_graphs(history,\"accuracy\")\n"
      ],
      "metadata": {
        "colab": {
          "base_uri": "https://localhost:8080/",
          "height": 279
        },
        "id": "eYfRUo61dU3a",
        "outputId": "f235dcd6-cb01-4128-f06b-5e099dbe52b6"
      },
      "execution_count": 15,
      "outputs": [
        {
          "output_type": "display_data",
          "data": {
            "image/png": "[encoded data removed]",
            "text/plain": [
              "<Figure size 432x288 with 1 Axes>"
            ]
          },
          "metadata": {
            "needs_background": "light"
          }
        }
      ]
    },
    {
      "cell_type": "markdown",
      "source": [
        "Generate new Text"
      ],
      "metadata": {
        "id": "LW_Wa8R_eGLM"
      }
    },
    {
      "cell_type": "code",
      "source": [
        "seed_text = \"It was a cold night.\"\n",
        "\n",
        "# add number of words to predict\n",
        "\n",
        "next_words = 100\n",
        "\n",
        "# run the loop to predict and concatenate the word\n",
        "\n",
        "for _ in range(next_words):\n",
        "  token_list = tokenizer.texts_to_sequences([seed_text])[0]\n",
        "  token_list = pad_sequences([token_list],maxlen=max_seq_len-1,padding='pre')\n",
        "\n",
        "  # predict the class using the trained model\n",
        "  predicted = model.predict(token_list,verbose=0)\n",
        "  y_classes = predicted.argmax(axis=-1)\n",
        "  output_word=\"\"\n",
        "  for word,index in tokenizer.word_index.items():\n",
        "    if index == y_classes:\n",
        "      output_word = word\n",
        "      break\n",
        "  seed_text += \" \" + output_word\n",
        "\n",
        "print(seed_text)"
      ],
      "metadata": {
        "colab": {
          "base_uri": "https://localhost:8080/"
        },
        "id": "t4jppXYveISf",
        "outputId": "b13f56e5-f1d1-4045-d08c-720cbd28e349"
      },
      "execution_count": 17,
      "outputs": [
        {
          "output_type": "stream",
          "name": "stdout",
          "text": [
            "It was a cold night. to decay prove night night whatsoever consider perceive trees woman's gracious did sight object woman's folly great featureless light's object farthest clear flattery eclipses sweetly present present sorry farthest farthest farthest unseen painter's silvered o'er think didst didst didst didst didst thou take thou gild'st the black even best thee her for me thee more express'd thought see thee you now see see lives glass eyes you young best see you young alone see me numbers thee thee alone any numbers brave churl beauties life's clear perceive perceive mine eyes numbers sweetly say unseeing good chief darkness nature nature flattery\n"
          ]
        }
      ]
    }
  ]
}