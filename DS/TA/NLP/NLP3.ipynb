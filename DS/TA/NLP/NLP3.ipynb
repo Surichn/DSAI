{
  "nbformat": 4,
  "nbformat_minor": 0,
  "metadata": {
    "colab": {
      "name": "NLP3.ipynb",
      "provenance": [],
      "authorship_tag": "ABX9TyMjsqMFUoabjxtBrp38OQ0P",
      "include_colab_link": true
    },
    "kernelspec": {
      "name": "python3",
      "display_name": "Python 3"
    },
    "language_info": {
      "name": "python"
    }
  },
  "cells": [
    {
      "cell_type": "markdown",
      "metadata": {
        "id": "view-in-github",
        "colab_type": "text"
      },
      "source": [
        "<a href=\"https://colab.research.google.com/github/Surichn/DSAI/blob/main/DS/TA/NLP/NLP3.ipynb\" target=\"_parent\"><img src=\"https://colab.research.google.com/assets/colab-badge.svg\" alt=\"Open In Colab\"/></a>"
      ]
    },
    {
      "cell_type": "code",
      "source": [
        "import numpy as np\n",
        "import tensorflow as tf\n",
        "from tensorflow.keras.preprocessing.text import Tokenizer\n",
        "from tensorflow.keras.preprocessing.sequence import pad_sequences"
      ],
      "metadata": {
        "id": "wFrKFu1mMP-v"
      },
      "execution_count": 1,
      "outputs": []
    },
    {
      "cell_type": "code",
      "execution_count": 2,
      "metadata": {
        "id": "2ma5Yh_BU_As"
      },
      "outputs": [],
      "source": [
        "!wget --no-check-certificate \\\n",
        "      https://storage.googleapis.com/wdd-2-node.appspot.com/x1.json \\\n",
        "      -o /tmp/headlines.json"
      ]
    },
    {
      "cell_type": "code",
      "source": [
        "import pandas as pd\n",
        "\n",
        "data = pd.read_json(\"./x1.json\")\n",
        "data.head()"
      ],
      "metadata": {
        "colab": {
          "base_uri": "https://localhost:8080/",
          "height": 206
        },
        "id": "i5sKvufoW2Eu",
        "outputId": "1cfaae0f-65b5-4538-def3-6faacf2e1980"
      },
      "execution_count": 3,
      "outputs": [
        {
          "output_type": "execute_result",
          "data": {
            "text/html": [
              "\n",
              "  <div id=\"df-a5d434d8-e2cd-4e72-a0f3-a3c283839306\">\n",
              "    <div class=\"colab-df-container\">\n",
              "      <div>\n",
              "<style scoped>\n",
              "    .dataframe tbody tr th:only-of-type {\n",
              "        vertical-align: middle;\n",
              "    }\n",
              "\n",
              "    .dataframe tbody tr th {\n",
              "        vertical-align: top;\n",
              "    }\n",
              "\n",
              "    .dataframe thead th {\n",
              "        text-align: right;\n",
              "    }\n",
              "</style>\n",
              "<table border=\"1\" class=\"dataframe\">\n",
              "  <thead>\n",
              "    <tr style=\"text-align: right;\">\n",
              "      <th></th>\n",
              "      <th>is_sarcastic</th>\n",
              "      <th>headline</th>\n",
              "      <th>article_link</th>\n",
              "    </tr>\n",
              "  </thead>\n",
              "  <tbody>\n",
              "    <tr>\n",
              "      <th>0</th>\n",
              "      <td>1</td>\n",
              "      <td>thirtysomething scientists unveil doomsday clo...</td>\n",
              "      <td>https://www.theonion.com/thirtysomething-scien...</td>\n",
              "    </tr>\n",
              "    <tr>\n",
              "      <th>1</th>\n",
              "      <td>0</td>\n",
              "      <td>dem rep. totally nails why congress is falling...</td>\n",
              "      <td>https://www.huffingtonpost.com/entry/donna-edw...</td>\n",
              "    </tr>\n",
              "    <tr>\n",
              "      <th>2</th>\n",
              "      <td>0</td>\n",
              "      <td>eat your veggies: 9 deliciously different recipes</td>\n",
              "      <td>https://www.huffingtonpost.com/entry/eat-your-...</td>\n",
              "    </tr>\n",
              "    <tr>\n",
              "      <th>3</th>\n",
              "      <td>1</td>\n",
              "      <td>inclement weather prevents liar from getting t...</td>\n",
              "      <td>https://local.theonion.com/inclement-weather-p...</td>\n",
              "    </tr>\n",
              "    <tr>\n",
              "      <th>4</th>\n",
              "      <td>1</td>\n",
              "      <td>mother comes pretty close to using word 'strea...</td>\n",
              "      <td>https://www.theonion.com/mother-comes-pretty-c...</td>\n",
              "    </tr>\n",
              "  </tbody>\n",
              "</table>\n",
              "</div>\n",
              "      <button class=\"colab-df-convert\" onclick=\"convertToInteractive('df-a5d434d8-e2cd-4e72-a0f3-a3c283839306')\"\n",
              "              title=\"Convert this dataframe to an interactive table.\"\n",
              "              style=\"display:none;\">\n",
              "        \n",
              "  <svg xmlns=\"http://www.w3.org/2000/svg\" height=\"24px\"viewBox=\"0 0 24 24\"\n",
              "       width=\"24px\">\n",
              "    <path d=\"M0 0h24v24H0V0z\" fill=\"none\"/>\n",
              "    <path d=\"M18.56 5.44l.94 2.06.94-2.06 2.06-.94-2.06-.94-.94-2.06-.94 2.06-2.06.94zm-11 1L8.5 8.5l.94-2.06 2.06-.94-2.06-.94L8.5 2.5l-.94 2.06-2.06.94zm10 10l.94 2.06.94-2.06 2.06-.94-2.06-.94-.94-2.06-.94 2.06-2.06.94z\"/><path d=\"M17.41 7.96l-1.37-1.37c-.4-.4-.92-.59-1.43-.59-.52 0-1.04.2-1.43.59L10.3 9.45l-7.72 7.72c-.78.78-.78 2.05 0 2.83L4 21.41c.39.39.9.59 1.41.59.51 0 1.02-.2 1.41-.59l7.78-7.78 2.81-2.81c.8-.78.8-2.07 0-2.86zM5.41 20L4 18.59l7.72-7.72 1.47 1.35L5.41 20z\"/>\n",
              "  </svg>\n",
              "      </button>\n",
              "      \n",
              "  <style>\n",
              "    .colab-df-container {\n",
              "      display:flex;\n",
              "      flex-wrap:wrap;\n",
              "      gap: 12px;\n",
              "    }\n",
              "\n",
              "    .colab-df-convert {\n",
              "      background-color: #E8F0FE;\n",
              "      border: none;\n",
              "      border-radius: 50%;\n",
              "      cursor: pointer;\n",
              "      display: none;\n",
              "      fill: #1967D2;\n",
              "      height: 32px;\n",
              "      padding: 0 0 0 0;\n",
              "      width: 32px;\n",
              "    }\n",
              "\n",
              "    .colab-df-convert:hover {\n",
              "      background-color: #E2EBFA;\n",
              "      box-shadow: 0px 1px 2px rgba(60, 64, 67, 0.3), 0px 1px 3px 1px rgba(60, 64, 67, 0.15);\n",
              "      fill: #174EA6;\n",
              "    }\n",
              "\n",
              "    [theme=dark] .colab-df-convert {\n",
              "      background-color: #3B4455;\n",
              "      fill: #D2E3FC;\n",
              "    }\n",
              "\n",
              "    [theme=dark] .colab-df-convert:hover {\n",
              "      background-color: #434B5C;\n",
              "      box-shadow: 0px 1px 3px 1px rgba(0, 0, 0, 0.15);\n",
              "      filter: drop-shadow(0px 1px 2px rgba(0, 0, 0, 0.3));\n",
              "      fill: #FFFFFF;\n",
              "    }\n",
              "  </style>\n",
              "\n",
              "      <script>\n",
              "        const buttonEl =\n",
              "          document.querySelector('#df-a5d434d8-e2cd-4e72-a0f3-a3c283839306 button.colab-df-convert');\n",
              "        buttonEl.style.display =\n",
              "          google.colab.kernel.accessAllowed ? 'block' : 'none';\n",
              "\n",
              "        async function convertToInteractive(key) {\n",
              "          const element = document.querySelector('#df-a5d434d8-e2cd-4e72-a0f3-a3c283839306');\n",
              "          const dataTable =\n",
              "            await google.colab.kernel.invokeFunction('convertToInteractive',\n",
              "                                                     [key], {});\n",
              "          if (!dataTable) return;\n",
              "\n",
              "          const docLinkHtml = 'Like what you see? Visit the ' +\n",
              "            '<a target=\"_blank\" href=https://colab.research.google.com/notebooks/data_table.ipynb>data table notebook</a>'\n",
              "            + ' to learn more about interactive tables.';\n",
              "          element.innerHTML = '';\n",
              "          dataTable['output_type'] = 'display_data';\n",
              "          await google.colab.output.renderOutput(dataTable, element);\n",
              "          const docLink = document.createElement('div');\n",
              "          docLink.innerHTML = docLinkHtml;\n",
              "          element.appendChild(docLink);\n",
              "        }\n",
              "      </script>\n",
              "    </div>\n",
              "  </div>\n",
              "  "
            ],
            "text/plain": [
              "   is_sarcastic                                           headline  \\\n",
              "0             1  thirtysomething scientists unveil doomsday clo...   \n",
              "1             0  dem rep. totally nails why congress is falling...   \n",
              "2             0  eat your veggies: 9 deliciously different recipes   \n",
              "3             1  inclement weather prevents liar from getting t...   \n",
              "4             1  mother comes pretty close to using word 'strea...   \n",
              "\n",
              "                                        article_link  \n",
              "0  https://www.theonion.com/thirtysomething-scien...  \n",
              "1  https://www.huffingtonpost.com/entry/donna-edw...  \n",
              "2  https://www.huffingtonpost.com/entry/eat-your-...  \n",
              "3  https://local.theonion.com/inclement-weather-p...  \n",
              "4  https://www.theonion.com/mother-comes-pretty-c...  "
            ]
          },
          "metadata": {},
          "execution_count": 3
        }
      ]
    },
    {
      "cell_type": "code",
      "source": [
        "data.info()"
      ],
      "metadata": {
        "colab": {
          "base_uri": "https://localhost:8080/"
        },
        "id": "NDoAe3XHIX7a",
        "outputId": "edf146e1-ad7d-423c-d88e-b3f415618965"
      },
      "execution_count": 4,
      "outputs": [
        {
          "output_type": "stream",
          "name": "stdout",
          "text": [
            "<class 'pandas.core.frame.DataFrame'>\n",
            "RangeIndex: 28619 entries, 0 to 28618\n",
            "Data columns (total 3 columns):\n",
            " #   Column        Non-Null Count  Dtype \n",
            "---  ------        --------------  ----- \n",
            " 0   is_sarcastic  28619 non-null  int64 \n",
            " 1   headline      28619 non-null  object\n",
            " 2   article_link  28619 non-null  object\n",
            "dtypes: int64(1), object(2)\n",
            "memory usage: 670.9+ KB\n"
          ]
        }
      ]
    },
    {
      "cell_type": "markdown",
      "source": [
        "Segregating Headlines "
      ],
      "metadata": {
        "id": "kR5D5iBPXBsY"
      }
    },
    {
      "cell_type": "code",
      "source": [
        "headlines = list(data['headline'])\n",
        "\n",
        "labels = list(data['is_sarcastic'])"
      ],
      "metadata": {
        "id": "ET-G-91TXEhT"
      },
      "execution_count": 5,
      "outputs": []
    },
    {
      "cell_type": "markdown",
      "source": [
        "Set the Parameters"
      ],
      "metadata": {
        "id": "a6XPPIAZHZwr"
      }
    },
    {
      "cell_type": "code",
      "source": [
        "vocab_size = 5000\n",
        "max_length = 120\n",
        "embedding_dim = 16\n",
        "trunc_type = 'post'\n",
        "padding_type = 'post'\n",
        "oov_tok = '<OOV>'\n",
        "training_size = 20000"
      ],
      "metadata": {
        "id": "mrtnAayuHYIw"
      },
      "execution_count": 6,
      "outputs": []
    },
    {
      "cell_type": "markdown",
      "source": [
        "Splitting into Training and Testing"
      ],
      "metadata": {
        "id": "eQr3FdebJPSL"
      }
    },
    {
      "cell_type": "code",
      "source": [
        "  training_sentences = headlines[0:training_size]\n",
        "  testing_sentences = headlines[training_size:]\n",
        "\n",
        "  training_labels = labels[0:training_size]\n",
        "  testing_labels = labels[training_size:]"
      ],
      "metadata": {
        "id": "x3zpAVkKJTU9"
      },
      "execution_count": 7,
      "outputs": []
    },
    {
      "cell_type": "code",
      "source": [
        "tokenizer = Tokenizer(num_words=vocab_size,oov_token=oov_tok)\n",
        "\n",
        "tokenizer.fit_on_texts(training_sentences)\n",
        "word_index = tokenizer.word_index\n",
        "\n",
        "training_sequences = tokenizer.texts_to_sequences(training_sentences)\n",
        "training_pad = pad_sequences(training_sequences,maxlen = max_length, padding=padding_type, truncating = trunc_type)\n",
        "\n",
        "testing_sequences = tokenizer.texts_to_sequences(testing_sentences)\n",
        "testing_pad = pad_sequences(testing_sequences,maxlen = max_length, padding=padding_type, truncating = trunc_type)"
      ],
      "metadata": {
        "id": "ux0fs2mvXrSw"
      },
      "execution_count": 8,
      "outputs": []
    },
    {
      "cell_type": "code",
      "source": [
        "training_pad = np.array(training_pad)\n",
        "training_labels = np.array(training_labels)\n",
        "testing_pad = np.array(testing_pad)\n",
        "testing_labels = np.array(testing_labels)"
      ],
      "metadata": {
        "id": "hnDS4yBwLnsk"
      },
      "execution_count": 9,
      "outputs": []
    },
    {
      "cell_type": "markdown",
      "source": [
        "Define neural network with following layers\n",
        "\n",
        "\n",
        "*   Embedding Layer\n",
        "*   Global Average Pooling Layer (1D)\n",
        "*   Dense Layer with 24 nodes\n",
        "*   Output Dense Layer  with sigmoid activation"
      ],
      "metadata": {
        "id": "jN_8v0ghMtPm"
      }
    },
    {
      "cell_type": "code",
      "source": [
        "model = tf.keras.Sequential([\n",
        "                             tf.keras.layers.Embedding(vocab_size,embedding_dim,input_length=max_length),\n",
        "                             tf.keras.layers.GlobalAveragePooling1D(),\n",
        "                             tf.keras.layers.Dense(24,activation = 'relu'),\n",
        "                             tf.keras.layers.Dense(1,activation = 'sigmoid')\n",
        "])\n",
        "\n",
        "model.compile(loss='binary_crossentropy', optimizer='adam', metrics=['accuracy'])\n",
        "model.summary()"
      ],
      "metadata": {
        "id": "FwgGT3zzMxSI",
        "outputId": "a454fac0-cdb4-41bf-ec15-3002d94aaea4",
        "colab": {
          "base_uri": "https://localhost:8080/"
        }
      },
      "execution_count": 10,
      "outputs": [
        {
          "output_type": "stream",
          "name": "stdout",
          "text": [
            "Model: \"sequential\"\n",
            "_________________________________________________________________\n",
            " Layer (type)                Output Shape              Param #   \n",
            "=================================================================\n",
            " embedding (Embedding)       (None, 120, 16)           80000     \n",
            "                                                                 \n",
            " global_average_pooling1d (G  (None, 16)               0         \n",
            " lobalAveragePooling1D)                                          \n",
            "                                                                 \n",
            " dense (Dense)               (None, 24)                408       \n",
            "                                                                 \n",
            " dense_1 (Dense)             (None, 1)                 25        \n",
            "                                                                 \n",
            "=================================================================\n",
            "Total params: 80,433\n",
            "Trainable params: 80,433\n",
            "Non-trainable params: 0\n",
            "_________________________________________________________________\n"
          ]
        }
      ]
    },
    {
      "cell_type": "markdown",
      "source": [
        "Train the Model"
      ],
      "metadata": {
        "id": "hP7kKRlpNn07"
      }
    },
    {
      "cell_type": "code",
      "source": [
        "num_epochs = 30\n",
        "\n",
        "history = model.fit(\n",
        "    training_pad,\n",
        "    training_labels,\n",
        "    epochs = num_epochs,\n",
        "    validation_data = (testing_pad, testing_labels),\n",
        "    verbose = 2\n",
        ")"
      ],
      "metadata": {
        "id": "Q5V-CoXMNpLm",
        "outputId": "ee781b8d-c8a7-4231-e115-c422b9c013d2",
        "colab": {
          "base_uri": "https://localhost:8080/"
        }
      },
      "execution_count": 11,
      "outputs": [
        {
          "output_type": "stream",
          "name": "stdout",
          "text": [
            "Epoch 1/30\n",
            "625/625 - 4s - loss: 0.6650 - accuracy: 0.6123 - val_loss: 0.5557 - val_accuracy: 0.7814 - 4s/epoch - 6ms/step\n",
            "Epoch 2/30\n",
            "625/625 - 4s - loss: 0.4359 - accuracy: 0.8211 - val_loss: 0.3829 - val_accuracy: 0.8323 - 4s/epoch - 7ms/step\n",
            "Epoch 3/30\n",
            "625/625 - 4s - loss: 0.3387 - accuracy: 0.8579 - val_loss: 0.3617 - val_accuracy: 0.8409 - 4s/epoch - 6ms/step\n",
            "Epoch 4/30\n",
            "625/625 - 4s - loss: 0.2992 - accuracy: 0.8760 - val_loss: 0.3476 - val_accuracy: 0.8484 - 4s/epoch - 6ms/step\n",
            "Epoch 5/30\n",
            "625/625 - 4s - loss: 0.2732 - accuracy: 0.8874 - val_loss: 0.3397 - val_accuracy: 0.8537 - 4s/epoch - 7ms/step\n",
            "Epoch 6/30\n",
            "625/625 - 4s - loss: 0.2532 - accuracy: 0.8987 - val_loss: 0.3430 - val_accuracy: 0.8507 - 4s/epoch - 7ms/step\n",
            "Epoch 7/30\n",
            "625/625 - 4s - loss: 0.2395 - accuracy: 0.9026 - val_loss: 0.3614 - val_accuracy: 0.8459 - 4s/epoch - 6ms/step\n",
            "Epoch 8/30\n",
            "625/625 - 4s - loss: 0.2270 - accuracy: 0.9100 - val_loss: 0.3627 - val_accuracy: 0.8450 - 4s/epoch - 6ms/step\n",
            "Epoch 9/30\n",
            "625/625 - 2s - loss: 0.2191 - accuracy: 0.9115 - val_loss: 0.3699 - val_accuracy: 0.8430 - 2s/epoch - 3ms/step\n",
            "Epoch 10/30\n",
            "625/625 - 2s - loss: 0.2100 - accuracy: 0.9176 - val_loss: 0.3740 - val_accuracy: 0.8451 - 2s/epoch - 4ms/step\n",
            "Epoch 11/30\n",
            "625/625 - 2s - loss: 0.2020 - accuracy: 0.9200 - val_loss: 0.3880 - val_accuracy: 0.8412 - 2s/epoch - 3ms/step\n",
            "Epoch 12/30\n",
            "625/625 - 2s - loss: 0.1990 - accuracy: 0.9208 - val_loss: 0.4055 - val_accuracy: 0.8354 - 2s/epoch - 3ms/step\n",
            "Epoch 13/30\n",
            "625/625 - 2s - loss: 0.1922 - accuracy: 0.9238 - val_loss: 0.4052 - val_accuracy: 0.8390 - 2s/epoch - 3ms/step\n",
            "Epoch 14/30\n",
            "625/625 - 2s - loss: 0.1882 - accuracy: 0.9272 - val_loss: 0.4289 - val_accuracy: 0.8315 - 2s/epoch - 3ms/step\n",
            "Epoch 15/30\n",
            "625/625 - 2s - loss: 0.1835 - accuracy: 0.9284 - val_loss: 0.4289 - val_accuracy: 0.8329 - 2s/epoch - 3ms/step\n",
            "Epoch 16/30\n",
            "625/625 - 2s - loss: 0.1792 - accuracy: 0.9284 - val_loss: 0.4428 - val_accuracy: 0.8322 - 2s/epoch - 3ms/step\n",
            "Epoch 17/30\n",
            "625/625 - 2s - loss: 0.1776 - accuracy: 0.9315 - val_loss: 0.4499 - val_accuracy: 0.8304 - 2s/epoch - 3ms/step\n",
            "Epoch 18/30\n",
            "625/625 - 2s - loss: 0.1731 - accuracy: 0.9339 - val_loss: 0.4678 - val_accuracy: 0.8264 - 2s/epoch - 3ms/step\n",
            "Epoch 19/30\n",
            "625/625 - 2s - loss: 0.1721 - accuracy: 0.9337 - val_loss: 0.4685 - val_accuracy: 0.8286 - 2s/epoch - 3ms/step\n",
            "Epoch 20/30\n",
            "625/625 - 2s - loss: 0.1692 - accuracy: 0.9343 - val_loss: 0.4924 - val_accuracy: 0.8236 - 2s/epoch - 3ms/step\n",
            "Epoch 21/30\n",
            "625/625 - 2s - loss: 0.1670 - accuracy: 0.9359 - val_loss: 0.4849 - val_accuracy: 0.8263 - 2s/epoch - 3ms/step\n",
            "Epoch 22/30\n",
            "625/625 - 2s - loss: 0.1636 - accuracy: 0.9376 - val_loss: 0.4959 - val_accuracy: 0.8250 - 2s/epoch - 3ms/step\n",
            "Epoch 23/30\n",
            "625/625 - 2s - loss: 0.1618 - accuracy: 0.9376 - val_loss: 0.5074 - val_accuracy: 0.8232 - 2s/epoch - 3ms/step\n",
            "Epoch 24/30\n",
            "625/625 - 2s - loss: 0.1614 - accuracy: 0.9381 - val_loss: 0.5125 - val_accuracy: 0.8232 - 2s/epoch - 3ms/step\n",
            "Epoch 25/30\n",
            "625/625 - 2s - loss: 0.1579 - accuracy: 0.9398 - val_loss: 0.5189 - val_accuracy: 0.8246 - 2s/epoch - 4ms/step\n",
            "Epoch 26/30\n",
            "625/625 - 2s - loss: 0.1556 - accuracy: 0.9398 - val_loss: 0.5427 - val_accuracy: 0.8163 - 2s/epoch - 3ms/step\n",
            "Epoch 27/30\n",
            "625/625 - 2s - loss: 0.1549 - accuracy: 0.9405 - val_loss: 0.5346 - val_accuracy: 0.8204 - 2s/epoch - 4ms/step\n",
            "Epoch 28/30\n",
            "625/625 - 2s - loss: 0.1552 - accuracy: 0.9416 - val_loss: 0.5442 - val_accuracy: 0.8213 - 2s/epoch - 3ms/step\n",
            "Epoch 29/30\n",
            "625/625 - 2s - loss: 0.1514 - accuracy: 0.9431 - val_loss: 0.5492 - val_accuracy: 0.8191 - 2s/epoch - 3ms/step\n",
            "Epoch 30/30\n",
            "625/625 - 2s - loss: 0.1506 - accuracy: 0.9433 - val_loss: 0.5622 - val_accuracy: 0.8165 - 2s/epoch - 4ms/step\n"
          ]
        }
      ]
    },
    {
      "cell_type": "markdown",
      "source": [
        "Visualize the train and validation accuracy"
      ],
      "metadata": {
        "id": "DtTtj45IQl3r"
      }
    },
    {
      "cell_type": "code",
      "source": [
        "import matplotlib.pyplot as plt\n",
        "\n",
        "def plot_graphs(history, string):\n",
        "  plt.plot(history.history[string])\n",
        "  plt.plot(history.history['val_' +string])\n",
        "  plt.legend([string, 'val_' +string])\n",
        "  plt.xlabel(\"Epochs\")\n",
        "  plt.ylabel(string)\n",
        "  plt.show()\n",
        "\n",
        "plot_graphs(history,\"accuracy\")\n",
        "plot_graphs(history,\"loss\")\n"
      ],
      "metadata": {
        "id": "7eHtza0nQkHj",
        "outputId": "9ac67166-e31d-415f-de25-c8d028c2393d",
        "colab": {
          "base_uri": "https://localhost:8080/",
          "height": 541
        }
      },
      "execution_count": 12,
      "outputs": [
        {
          "output_type": "display_data",
          "data": {
            "image/png": "[encoded data removed]",
            "text/plain": [
              "<Figure size 432x288 with 1 Axes>"
            ]
          },
          "metadata": {
            "needs_background": "light"
          }
        },
        {
          "output_type": "display_data",
          "data": {
            "image/png": "[encoded data removed]",
            "text/plain": [
              "<Figure size 432x288 with 1 Axes>"
            ]
          },
          "metadata": {
            "needs_background": "light"
          }
        }
      ]
    },
    {
      "cell_type": "markdown",
      "source": [
        "Classifying new sentence"
      ],
      "metadata": {
        "id": "QX43YWUSZ9GC"
      }
    },
    {
      "cell_type": "code",
      "source": [
        "sentence = [\"the baby boy fears spiders\", \"game of thrones season finale showing this sunday night\"]\n",
        "\n",
        "sequences = tokenizer.texts_to_sequences(sentence)\n",
        "pad_seq = pad_sequences(sequences,maxlen = max_length,padding = padding_type, truncating = trunc_type)\n",
        "\n",
        "print(model.predict(pad_seq))"
      ],
      "metadata": {
        "colab": {
          "base_uri": "https://localhost:8080/"
        },
        "id": "rgu2hiHiZ7f-",
        "outputId": "f932c542-5d82-4030-ae3b-7f5163a9584b"
      },
      "execution_count": 16,
      "outputs": [
        {
          "output_type": "stream",
          "name": "stdout",
          "text": [
            "[[0.00477034]\n",
            " [0.01057258]]\n"
          ]
        }
      ]
    }
  ]
}