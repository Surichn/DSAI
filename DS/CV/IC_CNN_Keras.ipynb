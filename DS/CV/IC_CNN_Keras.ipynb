{
  "nbformat": 4,
  "nbformat_minor": 0,
  "metadata": {
    "colab": {
      "name": "IC_CNN_Keras.ipynb",
      "provenance": [],
      "authorship_tag": "ABX9TyPrVP8VjgBiHymiTvAZwdyr",
      "include_colab_link": true
    },
    "kernelspec": {
      "name": "python3",
      "display_name": "Python 3"
    },
    "language_info": {
      "name": "python"
    }
  },
  "cells": [
    {
      "cell_type": "markdown",
      "metadata": {
        "id": "view-in-github",
        "colab_type": "text"
      },
      "source": [
        "<a href=\"https://colab.research.google.com/github/Surichn/DSAI/blob/main/DS/CV/IC_CNN_Keras.ipynb\" target=\"_parent\"><img src=\"https://colab.research.google.com/assets/colab-badge.svg\" alt=\"Open In Colab\"/></a>"
      ]
    },
    {
      "cell_type": "markdown",
      "source": [
        "Image Classifications using CNN and Keras"
      ],
      "metadata": {
        "id": "RgST88ajvszz"
      }
    },
    {
      "cell_type": "markdown",
      "source": [
        "**Step 1 : Importing required Libraries**"
      ],
      "metadata": {
        "id": "2ISk3HRFwAfF"
      }
    },
    {
      "cell_type": "code",
      "execution_count": 4,
      "metadata": {
        "colab": {
          "base_uri": "https://localhost:8080/"
        },
        "id": "Q9Z881I7rrdg",
        "outputId": "61274b45-cd28-4083-8e62-c0465a92d387"
      },
      "outputs": [
        {
          "output_type": "stream",
          "name": "stdout",
          "text": [
            "Tensorflow Version: 2.8.0\n",
            "WARNING:tensorflow:From <ipython-input-4-18072dfde508>:8: is_gpu_available (from tensorflow.python.framework.test_util) is deprecated and will be removed in a future version.\n",
            "Instructions for updating:\n",
            "Use `tf.config.list_physical_devices('GPU')` instead.\n",
            "Is GPU available? False\n"
          ]
        }
      ],
      "source": [
        "import tensorflow as tf\n",
        "\n",
        "import os\n",
        "import numpy as np\n",
        "from matplotlib import pyplot as pp\n",
        "\n",
        "print('Tensorflow Version:', tf.__version__)\n",
        "print('Is GPU available?',tf.test.is_gpu_available())"
      ]
    }
  ]
}